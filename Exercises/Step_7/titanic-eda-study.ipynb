{
 "cells": [
  {
   "cell_type": "code",
   "execution_count": 1,
   "id": "247f17fd",
   "metadata": {
    "_cell_guid": "b1076dfc-b9ad-4769-8c92-a6c4dae69d19",
    "_uuid": "8f2839f25d086af736a60e9eeb907d3b93b6e0e5",
    "execution": {
     "iopub.execute_input": "2022-10-14T09:27:15.754990Z",
     "iopub.status.busy": "2022-10-14T09:27:15.754290Z",
     "iopub.status.idle": "2022-10-14T09:27:16.795303Z",
     "shell.execute_reply": "2022-10-14T09:27:16.792390Z"
    },
    "papermill": {
     "duration": 1.052975,
     "end_time": "2022-10-14T09:27:16.798310",
     "exception": false,
     "start_time": "2022-10-14T09:27:15.745335",
     "status": "completed"
    },
    "tags": []
   },
   "outputs": [
    {
     "name": "stdout",
     "output_type": "stream",
     "text": [
      "/kaggle/input/titanic/train.csv\n",
      "/kaggle/input/titanic/test.csv\n",
      "/kaggle/input/titanic/gender_submission.csv\n"
     ]
    }
   ],
   "source": [
    "# This Python 3 environment comes with many helpful analytics libraries installed\n",
    "# It is defined by the kaggle/python Docker image: https://github.com/kaggle/docker-python\n",
    "# For example, here's several helpful packages to load\n",
    "\n",
    "import numpy as np # linear algebra\n",
    "import pandas as pd # data processing, CSV file I/O (e.g. pd.read_csv)\n",
    "pd.plotting.register_matplotlib_converters()\n",
    "import matplotlib.pyplot as plt\n",
    "%matplotlib inline\n",
    "import seaborn as sns\n",
    "\n",
    "# Input data files are available in the read-only \"../input/\" directory\n",
    "# For example, running this (by clicking run or pressing Shift+Enter) will list all files under the input directory\n",
    "\n",
    "import os\n",
    "for dirname, _, filenames in os.walk('/kaggle/input'):\n",
    "    for filename in filenames:\n",
    "        print(os.path.join(dirname, filename))\n",
    "\n",
    "# You can write up to 20GB to the current directory (/kaggle/working/) that gets preserved as output when you create a version using \"Save & Run All\" \n",
    "# You can also write temporary files to /kaggle/temp/, but they won't be saved outside of the current session"
   ]
  },
  {
   "cell_type": "markdown",
   "id": "f41f3ed1",
   "metadata": {
    "papermill": {
     "duration": 0.010325,
     "end_time": "2022-10-14T09:27:16.815920",
     "exception": false,
     "start_time": "2022-10-14T09:27:16.805595",
     "status": "completed"
    },
    "tags": []
   },
   "source": []
  },
  {
   "cell_type": "code",
   "execution_count": 2,
   "id": "d0df2b40",
   "metadata": {
    "execution": {
     "iopub.execute_input": "2022-10-14T09:27:16.833165Z",
     "iopub.status.busy": "2022-10-14T09:27:16.831992Z",
     "iopub.status.idle": "2022-10-14T09:27:16.871396Z",
     "shell.execute_reply": "2022-10-14T09:27:16.870179Z"
    },
    "papermill": {
     "duration": 0.049588,
     "end_time": "2022-10-14T09:27:16.873893",
     "exception": false,
     "start_time": "2022-10-14T09:27:16.824305",
     "status": "completed"
    },
    "tags": []
   },
   "outputs": [
    {
     "data": {
      "text/html": [
       "<div>\n",
       "<style scoped>\n",
       "    .dataframe tbody tr th:only-of-type {\n",
       "        vertical-align: middle;\n",
       "    }\n",
       "\n",
       "    .dataframe tbody tr th {\n",
       "        vertical-align: top;\n",
       "    }\n",
       "\n",
       "    .dataframe thead th {\n",
       "        text-align: right;\n",
       "    }\n",
       "</style>\n",
       "<table border=\"1\" class=\"dataframe\">\n",
       "  <thead>\n",
       "    <tr style=\"text-align: right;\">\n",
       "      <th></th>\n",
       "      <th>PassengerId</th>\n",
       "      <th>Survived</th>\n",
       "      <th>Pclass</th>\n",
       "      <th>Name</th>\n",
       "      <th>Sex</th>\n",
       "      <th>Age</th>\n",
       "      <th>SibSp</th>\n",
       "      <th>Parch</th>\n",
       "      <th>Ticket</th>\n",
       "      <th>Fare</th>\n",
       "      <th>Cabin</th>\n",
       "      <th>Embarked</th>\n",
       "    </tr>\n",
       "  </thead>\n",
       "  <tbody>\n",
       "    <tr>\n",
       "      <th>0</th>\n",
       "      <td>1</td>\n",
       "      <td>0</td>\n",
       "      <td>3</td>\n",
       "      <td>Braund, Mr. Owen Harris</td>\n",
       "      <td>male</td>\n",
       "      <td>22.0</td>\n",
       "      <td>1</td>\n",
       "      <td>0</td>\n",
       "      <td>A/5 21171</td>\n",
       "      <td>7.2500</td>\n",
       "      <td>NaN</td>\n",
       "      <td>S</td>\n",
       "    </tr>\n",
       "    <tr>\n",
       "      <th>1</th>\n",
       "      <td>2</td>\n",
       "      <td>1</td>\n",
       "      <td>1</td>\n",
       "      <td>Cumings, Mrs. John Bradley (Florence Briggs Th...</td>\n",
       "      <td>female</td>\n",
       "      <td>38.0</td>\n",
       "      <td>1</td>\n",
       "      <td>0</td>\n",
       "      <td>PC 17599</td>\n",
       "      <td>71.2833</td>\n",
       "      <td>C85</td>\n",
       "      <td>C</td>\n",
       "    </tr>\n",
       "    <tr>\n",
       "      <th>2</th>\n",
       "      <td>3</td>\n",
       "      <td>1</td>\n",
       "      <td>3</td>\n",
       "      <td>Heikkinen, Miss. Laina</td>\n",
       "      <td>female</td>\n",
       "      <td>26.0</td>\n",
       "      <td>0</td>\n",
       "      <td>0</td>\n",
       "      <td>STON/O2. 3101282</td>\n",
       "      <td>7.9250</td>\n",
       "      <td>NaN</td>\n",
       "      <td>S</td>\n",
       "    </tr>\n",
       "    <tr>\n",
       "      <th>3</th>\n",
       "      <td>4</td>\n",
       "      <td>1</td>\n",
       "      <td>1</td>\n",
       "      <td>Futrelle, Mrs. Jacques Heath (Lily May Peel)</td>\n",
       "      <td>female</td>\n",
       "      <td>35.0</td>\n",
       "      <td>1</td>\n",
       "      <td>0</td>\n",
       "      <td>113803</td>\n",
       "      <td>53.1000</td>\n",
       "      <td>C123</td>\n",
       "      <td>S</td>\n",
       "    </tr>\n",
       "    <tr>\n",
       "      <th>4</th>\n",
       "      <td>5</td>\n",
       "      <td>0</td>\n",
       "      <td>3</td>\n",
       "      <td>Allen, Mr. William Henry</td>\n",
       "      <td>male</td>\n",
       "      <td>35.0</td>\n",
       "      <td>0</td>\n",
       "      <td>0</td>\n",
       "      <td>373450</td>\n",
       "      <td>8.0500</td>\n",
       "      <td>NaN</td>\n",
       "      <td>S</td>\n",
       "    </tr>\n",
       "  </tbody>\n",
       "</table>\n",
       "</div>"
      ],
      "text/plain": [
       "   PassengerId  Survived  Pclass  \\\n",
       "0            1         0       3   \n",
       "1            2         1       1   \n",
       "2            3         1       3   \n",
       "3            4         1       1   \n",
       "4            5         0       3   \n",
       "\n",
       "                                                Name     Sex   Age  SibSp  \\\n",
       "0                            Braund, Mr. Owen Harris    male  22.0      1   \n",
       "1  Cumings, Mrs. John Bradley (Florence Briggs Th...  female  38.0      1   \n",
       "2                             Heikkinen, Miss. Laina  female  26.0      0   \n",
       "3       Futrelle, Mrs. Jacques Heath (Lily May Peel)  female  35.0      1   \n",
       "4                           Allen, Mr. William Henry    male  35.0      0   \n",
       "\n",
       "   Parch            Ticket     Fare Cabin Embarked  \n",
       "0      0         A/5 21171   7.2500   NaN        S  \n",
       "1      0          PC 17599  71.2833   C85        C  \n",
       "2      0  STON/O2. 3101282   7.9250   NaN        S  \n",
       "3      0            113803  53.1000  C123        S  \n",
       "4      0            373450   8.0500   NaN        S  "
      ]
     },
     "execution_count": 2,
     "metadata": {},
     "output_type": "execute_result"
    }
   ],
   "source": [
    "titanic_filepath = \"../input/titanic/train.csv\"\n",
    "titanic_data = pd.read_csv(titanic_filepath, delimiter=\",\", decimal=\".\")\n",
    "titanic_data.head()"
   ]
  },
  {
   "cell_type": "code",
   "execution_count": 3,
   "id": "c2d2dee1",
   "metadata": {
    "execution": {
     "iopub.execute_input": "2022-10-14T09:27:16.888559Z",
     "iopub.status.busy": "2022-10-14T09:27:16.887939Z",
     "iopub.status.idle": "2022-10-14T09:27:16.916407Z",
     "shell.execute_reply": "2022-10-14T09:27:16.913315Z"
    },
    "papermill": {
     "duration": 0.040259,
     "end_time": "2022-10-14T09:27:16.920652",
     "exception": false,
     "start_time": "2022-10-14T09:27:16.880393",
     "status": "completed"
    },
    "tags": []
   },
   "outputs": [
    {
     "name": "stdout",
     "output_type": "stream",
     "text": [
      "<class 'pandas.core.frame.DataFrame'>\n",
      "RangeIndex: 891 entries, 0 to 890\n",
      "Data columns (total 12 columns):\n",
      " #   Column       Non-Null Count  Dtype  \n",
      "---  ------       --------------  -----  \n",
      " 0   PassengerId  891 non-null    int64  \n",
      " 1   Survived     891 non-null    int64  \n",
      " 2   Pclass       891 non-null    int64  \n",
      " 3   Name         891 non-null    object \n",
      " 4   Sex          891 non-null    object \n",
      " 5   Age          714 non-null    float64\n",
      " 6   SibSp        891 non-null    int64  \n",
      " 7   Parch        891 non-null    int64  \n",
      " 8   Ticket       891 non-null    object \n",
      " 9   Fare         891 non-null    float64\n",
      " 10  Cabin        204 non-null    object \n",
      " 11  Embarked     889 non-null    object \n",
      "dtypes: float64(2), int64(5), object(5)\n",
      "memory usage: 83.7+ KB\n"
     ]
    }
   ],
   "source": [
    "titanic_data.info()"
   ]
  },
  {
   "cell_type": "code",
   "execution_count": 4,
   "id": "0d5f265e",
   "metadata": {
    "execution": {
     "iopub.execute_input": "2022-10-14T09:27:16.941651Z",
     "iopub.status.busy": "2022-10-14T09:27:16.941203Z",
     "iopub.status.idle": "2022-10-14T09:27:16.949169Z",
     "shell.execute_reply": "2022-10-14T09:27:16.948037Z"
    },
    "papermill": {
     "duration": 0.02283,
     "end_time": "2022-10-14T09:27:16.952570",
     "exception": false,
     "start_time": "2022-10-14T09:27:16.929740",
     "status": "completed"
    },
    "tags": []
   },
   "outputs": [
    {
     "data": {
      "text/plain": [
       "Index(['PassengerId', 'Survived', 'Pclass', 'Name', 'Sex', 'Age', 'SibSp',\n",
       "       'Parch', 'Ticket', 'Fare', 'Cabin', 'Embarked'],\n",
       "      dtype='object')"
      ]
     },
     "execution_count": 4,
     "metadata": {},
     "output_type": "execute_result"
    }
   ],
   "source": [
    "titanic_data.columns"
   ]
  },
  {
   "cell_type": "markdown",
   "id": "6def8995",
   "metadata": {
    "papermill": {
     "duration": 0.006234,
     "end_time": "2022-10-14T09:27:16.965168",
     "exception": false,
     "start_time": "2022-10-14T09:27:16.958934",
     "status": "completed"
    },
    "tags": []
   },
   "source": [
    "# Exploratory Data Analysis"
   ]
  },
  {
   "cell_type": "markdown",
   "id": "b8c1e8d1",
   "metadata": {
    "papermill": {
     "duration": 0.005827,
     "end_time": "2022-10-14T09:27:16.977138",
     "exception": false,
     "start_time": "2022-10-14T09:27:16.971311",
     "status": "completed"
    },
    "tags": []
   },
   "source": [
    "## Age"
   ]
  },
  {
   "cell_type": "code",
   "execution_count": 5,
   "id": "94a33f40",
   "metadata": {
    "execution": {
     "iopub.execute_input": "2022-10-14T09:27:16.994712Z",
     "iopub.status.busy": "2022-10-14T09:27:16.993856Z",
     "iopub.status.idle": "2022-10-14T09:27:18.214320Z",
     "shell.execute_reply": "2022-10-14T09:27:18.213171Z"
    },
    "papermill": {
     "duration": 1.232284,
     "end_time": "2022-10-14T09:27:18.216558",
     "exception": false,
     "start_time": "2022-10-14T09:27:16.984274",
     "status": "completed"
    },
    "tags": []
   },
   "outputs": [
    {
     "data": {
      "image/png": "[encoded data removed]",
      "text/plain": [
       "<Figure size 1152x432 with 1 Axes>"
      ]
     },
     "metadata": {
      "needs_background": "light"
     },
     "output_type": "display_data"
    }
   ],
   "source": [
    "# Create a plot\n",
    "plt.figure(figsize=(16,6))# Your code here\n",
    "plt.title(\"Age Histogram By Survived of Male People\")\n",
    "\n",
    "ax_male = sns.histplot(data=titanic_data[titanic_data[\"Sex\"] == \"male\"], x=\"Age\", hue=\"Survived\", bins=100)\n",
    "\n",
    "plt.xticks(np.arange(0, 101, 1))\n",
    "plt.yticks(np.arange(0, 101, 5))\n",
    "\n",
    "plt.ylim((0, 35))\n",
    "plt.xlim((0, 80))\n",
    "\n",
    "ax_male.tick_params(axis=\"x\", rotation=90)\n",
    "\n",
    "plt.show()"
   ]
  },
  {
   "cell_type": "markdown",
   "id": "6bafe346",
   "metadata": {
    "papermill": {
     "duration": 0.006582,
     "end_time": "2022-10-14T09:27:18.230115",
     "exception": false,
     "start_time": "2022-10-14T09:27:18.223533",
     "status": "completed"
    },
    "tags": []
   },
   "source": [
    "As we can see in the barplot above:\n",
    "\n",
    "* age <= 6 -> high chance of surviving\n",
    "* 7 <= age <= 15 -> low chance of surviving\n",
    "* 16 <= age <= 32 -> moderate chance of surviving\n",
    "* 33 <= age <= 45 -> low chance of surviving\n",
    "* 47 <= age <= 60 -> low chance of surviving\n",
    "* age > 60 -> very low chance of surviving"
   ]
  },
  {
   "cell_type": "code",
   "execution_count": 6,
   "id": "f3d9fa19",
   "metadata": {
    "execution": {
     "iopub.execute_input": "2022-10-14T09:27:18.246412Z",
     "iopub.status.busy": "2022-10-14T09:27:18.246067Z",
     "iopub.status.idle": "2022-10-14T09:27:19.394763Z",
     "shell.execute_reply": "2022-10-14T09:27:19.394013Z"
    },
    "papermill": {
     "duration": 1.15992,
     "end_time": "2022-10-14T09:27:19.396897",
     "exception": false,
     "start_time": "2022-10-14T09:27:18.236977",
     "status": "completed"
    },
    "tags": []
   },
   "outputs": [
    {
     "data": {
      "image/png": "[encoded data removed]",
      "text/plain": [
       "<Figure size 1152x432 with 1 Axes>"
      ]
     },
     "metadata": {
      "needs_background": "light"
     },
     "output_type": "display_data"
    }
   ],
   "source": [
    "plt.figure(figsize=(16,6))\n",
    "plt.title(\"Age Histogram By Survived of Female People\")\n",
    "\n",
    "ax_female = sns.histplot(data=titanic_data[titanic_data[\"Sex\"] == \"female\"], x=\"Age\", hue=\"Survived\", bins=100)\n",
    "\n",
    "plt.xticks(np.arange(0, 101, 1))\n",
    "plt.yticks(np.arange(0, 101, 5))\n",
    "\n",
    "plt.ylim((0, 35))\n",
    "plt.xlim((0, 65))\n",
    "\n",
    "ax_female.tick_params(axis=\"x\", rotation=90)\n",
    "\n",
    "plt.show()"
   ]
  },
  {
   "cell_type": "markdown",
   "id": "c298787d",
   "metadata": {
    "papermill": {
     "duration": 0.006866,
     "end_time": "2022-10-14T09:27:19.411234",
     "exception": false,
     "start_time": "2022-10-14T09:27:19.404368",
     "status": "completed"
    },
    "tags": []
   },
   "source": [
    "As we can see in the barplot above:\n",
    "\n",
    "* age <= 7 -> moderate chance of surviving\n",
    "* 8 <= age <= 12 -> very low chance of surviving\n",
    "* 13 <= age <= 40 -> very high chance of surviving\n",
    "* 41 <= age <= 50 -> low chance of surviving\n",
    "* age > 50 -> high chance of surviving"
   ]
  },
  {
   "cell_type": "code",
   "execution_count": 7,
   "id": "de8ee9ff",
   "metadata": {
    "execution": {
     "iopub.execute_input": "2022-10-14T09:27:19.427675Z",
     "iopub.status.busy": "2022-10-14T09:27:19.426768Z",
     "iopub.status.idle": "2022-10-14T09:27:20.741261Z",
     "shell.execute_reply": "2022-10-14T09:27:20.740174Z"
    },
    "papermill": {
     "duration": 1.325192,
     "end_time": "2022-10-14T09:27:20.743545",
     "exception": false,
     "start_time": "2022-10-14T09:27:19.418353",
     "status": "completed"
    },
    "tags": []
   },
   "outputs": [
    {
     "data": {
      "image/png": "[encoded data removed]",
      "text/plain": [
       "<Figure size 1152x432 with 1 Axes>"
      ]
     },
     "metadata": {
      "needs_background": "light"
     },
     "output_type": "display_data"
    }
   ],
   "source": [
    "plt.figure(figsize=(16,6))\n",
    "plt.title(\"Age Histogram By Sex\")\n",
    "\n",
    "ax_female = sns.histplot(data=titanic_data, x=\"Age\", hue=\"Sex\", bins=100)\n",
    "\n",
    "plt.xticks(np.arange(0, 101, 1))\n",
    "plt.yticks(np.arange(0, 101, 5))\n",
    "\n",
    "plt.ylim((0, 35))\n",
    "plt.xlim((0, 80))\n",
    "\n",
    "ax_female.tick_params(axis=\"x\", rotation=90)\n",
    "\n",
    "plt.show()"
   ]
  },
  {
   "cell_type": "markdown",
   "id": "f95b4431",
   "metadata": {
    "papermill": {
     "duration": 0.007413,
     "end_time": "2022-10-14T09:27:20.758866",
     "exception": false,
     "start_time": "2022-10-14T09:27:20.751453",
     "status": "completed"
    },
    "tags": []
   },
   "source": [
    "### Conclusion from the 3 barplots above related to age and sex\n",
    "\n",
    "- Even though there was more man than women, men died more than women\n",
    "- The chance of male people's surviving tend to drop significantly when older than 14 years old\n",
    "- The chance of male people's surviving tend to be high when not older than 6 years old\n",
    "- The chance of female people's surviving, in general, is good indepently of age when we compare to the men, but women have a higher chance of surviving when age is in range [13;40]\n",
    "- And we also can conclude that age are really important variables to define the surviving chance of passangers"
   ]
  },
  {
   "cell_type": "markdown",
   "id": "b8a46af8",
   "metadata": {
    "papermill": {
     "duration": 0.007296,
     "end_time": "2022-10-14T09:27:20.774504",
     "exception": false,
     "start_time": "2022-10-14T09:27:20.767208",
     "status": "completed"
    },
    "tags": []
   },
   "source": [
    "## Pclass"
   ]
  },
  {
   "cell_type": "code",
   "execution_count": 8,
   "id": "07e3d08c",
   "metadata": {
    "execution": {
     "iopub.execute_input": "2022-10-14T09:27:20.791223Z",
     "iopub.status.busy": "2022-10-14T09:27:20.790790Z",
     "iopub.status.idle": "2022-10-14T09:27:21.064170Z",
     "shell.execute_reply": "2022-10-14T09:27:21.063274Z"
    },
    "papermill": {
     "duration": 0.284518,
     "end_time": "2022-10-14T09:27:21.066465",
     "exception": false,
     "start_time": "2022-10-14T09:27:20.781947",
     "status": "completed"
    },
    "tags": []
   },
   "outputs": [
    {
     "data": {
      "image/png": "[encoded data removed]",
      "text/plain": [
       "<Figure size 432x432 with 1 Axes>"
      ]
     },
     "metadata": {
      "needs_background": "light"
     },
     "output_type": "display_data"
    }
   ],
   "source": [
    "plt.figure(figsize=(6,6))\n",
    "plt.title(\"Pclass Histogram by Survived\")\n",
    "\n",
    "ax = sns.histplot(data=titanic_data, x=\"Pclass\", hue=\"Survived\")\n",
    "plt.xticks(np.arange(1,3.1,1))\n",
    "plt.xlim((1,3))\n",
    "\n",
    "plt.show()"
   ]
  },
  {
   "cell_type": "markdown",
   "id": "1f19bfc9",
   "metadata": {
    "papermill": {
     "duration": 0.007657,
     "end_time": "2022-10-14T09:27:21.082067",
     "exception": false,
     "start_time": "2022-10-14T09:27:21.074410",
     "status": "completed"
    },
    "tags": []
   },
   "source": [
    "#### **As wee can see the majority of first class survived**"
   ]
  },
  {
   "cell_type": "markdown",
   "id": "41b78cba",
   "metadata": {
    "papermill": {
     "duration": 0.007372,
     "end_time": "2022-10-14T09:27:21.096899",
     "exception": false,
     "start_time": "2022-10-14T09:27:21.089527",
     "status": "completed"
    },
    "tags": []
   },
   "source": [
    "### Pclass and Sex"
   ]
  },
  {
   "cell_type": "code",
   "execution_count": 9,
   "id": "03e12534",
   "metadata": {
    "execution": {
     "iopub.execute_input": "2022-10-14T09:27:21.114186Z",
     "iopub.status.busy": "2022-10-14T09:27:21.113530Z",
     "iopub.status.idle": "2022-10-14T09:27:21.738475Z",
     "shell.execute_reply": "2022-10-14T09:27:21.737359Z"
    },
    "papermill": {
     "duration": 0.636884,
     "end_time": "2022-10-14T09:27:21.741262",
     "exception": false,
     "start_time": "2022-10-14T09:27:21.104378",
     "status": "completed"
    },
    "tags": []
   },
   "outputs": [
    {
     "data": {
      "image/png": "[encoded data removed]",
      "text/plain": [
       "<Figure size 216x432 with 1 Axes>"
      ]
     },
     "metadata": {
      "needs_background": "light"
     },
     "output_type": "display_data"
    },
    {
     "data": {
      "image/png": "[encoded data removed]",
      "text/plain": [
       "<Figure size 216x432 with 1 Axes>"
      ]
     },
     "metadata": {
      "needs_background": "light"
     },
     "output_type": "display_data"
    },
    {
     "data": {
      "image/png": "[encoded data removed]",
      "text/plain": [
       "<Figure size 216x432 with 1 Axes>"
      ]
     },
     "metadata": {
      "needs_background": "light"
     },
     "output_type": "display_data"
    }
   ],
   "source": [
    "plt.figure(figsize=(3,6))\n",
    "plt.title(\"Sex Histogram by Survived in First Class\")\n",
    "ax_1 = sns.histplot(data=titanic_data[titanic_data[\"Pclass\"] == 1], x=\"Sex\", hue=\"Survived\")\n",
    "plt.ylim((0,300))\n",
    "\n",
    "plt.figure(figsize=(3,6))\n",
    "plt.title(\"Sex Histogram by Survived in Second Class\")\n",
    "ax_2 = sns.histplot(data=titanic_data[titanic_data[\"Pclass\"] == 2], x=\"Sex\", hue=\"Survived\")\n",
    "plt.ylim((0,300))\n",
    "\n",
    "plt.figure(figsize=(3,6))\n",
    "plt.title(\"Sex Histogram by Survived in Third Class\")\n",
    "ax_3 = sns.histplot(data=titanic_data[titanic_data[\"Pclass\"] == 3], x=\"Sex\", hue=\"Survived\")\n",
    "plt.ylim((0,300))\n",
    "\n",
    "plt.show()"
   ]
  },
  {
   "cell_type": "markdown",
   "id": "3f2f9873",
   "metadata": {
    "papermill": {
     "duration": 0.008716,
     "end_time": "2022-10-14T09:27:21.759597",
     "exception": false,
     "start_time": "2022-10-14T09:27:21.750881",
     "status": "completed"
    },
    "tags": []
   },
   "source": [
    "#### **We can make a new feature with 6 categories**\n",
    "\n",
    "* Male and First Class\n",
    "* Female and First Class\n",
    "* Male and Second Class\n",
    "* Female and Second Class\n",
    "* Male and Third Class\n",
    "* Female and Third Class"
   ]
  },
  {
   "cell_type": "markdown",
   "id": "b253e694",
   "metadata": {
    "papermill": {
     "duration": 0.008378,
     "end_time": "2022-10-14T09:27:21.776891",
     "exception": false,
     "start_time": "2022-10-14T09:27:21.768513",
     "status": "completed"
    },
    "tags": []
   },
   "source": [
    "### Pclass and Age"
   ]
  },
  {
   "cell_type": "code",
   "execution_count": 10,
   "id": "0333612d",
   "metadata": {
    "execution": {
     "iopub.execute_input": "2022-10-14T09:27:21.796850Z",
     "iopub.status.busy": "2022-10-14T09:27:21.796429Z",
     "iopub.status.idle": "2022-10-14T09:27:25.504864Z",
     "shell.execute_reply": "2022-10-14T09:27:25.504015Z"
    },
    "papermill": {
     "duration": 3.720934,
     "end_time": "2022-10-14T09:27:25.507230",
     "exception": false,
     "start_time": "2022-10-14T09:27:21.786296",
     "status": "completed"
    },
    "tags": []
   },
   "outputs": [
    {
     "data": {
      "image/png": "[encoded data removed]",
      "text/plain": [
       "<Figure size 1152x432 with 1 Axes>"
      ]
     },
     "metadata": {
      "needs_background": "light"
     },
     "output_type": "display_data"
    },
    {
     "data": {
      "image/png": "[encoded data removed]",
      "text/plain": [
       "<Figure size 1152x432 with 1 Axes>"
      ]
     },
     "metadata": {
      "needs_background": "light"
     },
     "output_type": "display_data"
    },
    {
     "data": {
      "image/png": "[encoded data removed]",
      "text/plain": [
       "<Figure size 1152x432 with 1 Axes>"
      ]
     },
     "metadata": {
      "needs_background": "light"
     },
     "output_type": "display_data"
    }
   ],
   "source": [
    "plt.figure(figsize=(16,6))\n",
    "plt.title(\"Age Histogram by Survived in First Class\")\n",
    "ax_1 = sns.histplot(data=titanic_data[titanic_data[\"Pclass\"] == 1], x=\"Age\", hue=\"Survived\", bins=100)\n",
    "plt.xticks(np.arange(0, 101, 1))\n",
    "plt.yticks(np.arange(0, 101, 5))\n",
    "\n",
    "plt.ylim((0, 15))\n",
    "plt.xlim((0, 80))\n",
    "\n",
    "ax_1.tick_params(axis=\"x\", rotation=90)\n",
    "# ------------------------------------------\n",
    "\n",
    "plt.figure(figsize=(16,6))\n",
    "plt.title(\"Age Histogram by Survived in Second Class\")\n",
    "ax_2 = sns.histplot(data=titanic_data[titanic_data[\"Pclass\"] == 2], x=\"Age\", hue=\"Survived\", bins=100)\n",
    "plt.xticks(np.arange(0, 101, 1))\n",
    "plt.yticks(np.arange(0, 101, 5))\n",
    "\n",
    "plt.ylim((0, 15))\n",
    "plt.xlim((0, 80))\n",
    "\n",
    "ax_2.tick_params(axis=\"x\", rotation=90)\n",
    "# ------------------------------------------\n",
    "\n",
    "plt.figure(figsize=(16,6))\n",
    "plt.title(\"Age Histogram by Survived in Third Class\")\n",
    "ax_3 = sns.histplot(data=titanic_data[titanic_data[\"Pclass\"] == 3], x=\"Age\", hue=\"Survived\", bins=100)\n",
    "plt.xticks(np.arange(0, 101, 1))\n",
    "plt.yticks(np.arange(0, 101, 5))\n",
    "\n",
    "plt.ylim((0, 15))\n",
    "plt.xlim((0, 80))\n",
    "\n",
    "ax_3.tick_params(axis=\"x\", rotation=90)\n",
    "\n",
    "plt.show()"
   ]
  },
  {
   "cell_type": "markdown",
   "id": "5655671b",
   "metadata": {
    "papermill": {
     "duration": 0.009095,
     "end_time": "2022-10-14T09:27:25.526521",
     "exception": false,
     "start_time": "2022-10-14T09:27:25.517426",
     "status": "completed"
    },
    "tags": []
   },
   "source": [
    "* Wee can see that all second class persons with less than 15 years old has survived\n",
    "* first class persons with age less than 18 years old has pretty high chances of surviving\n",
    "* Although third class persons with age less than 6 years old has more chances os surviving than the ones older, steal lower chances than the first and second class"
   ]
  },
  {
   "cell_type": "markdown",
   "id": "eaa20e11",
   "metadata": {
    "papermill": {
     "duration": 0.00897,
     "end_time": "2022-10-14T09:27:25.544861",
     "exception": false,
     "start_time": "2022-10-14T09:27:25.535891",
     "status": "completed"
    },
    "tags": []
   },
   "source": [
    "#### **We can conclude that Pclass, Age and Sex are very important to predict the survivals**\n",
    "\n",
    "#### **This is something that we can use in feature engineering to create relevant features**"
   ]
  },
  {
   "cell_type": "markdown",
   "id": "56d7f66d",
   "metadata": {
    "papermill": {
     "duration": 0.008843,
     "end_time": "2022-10-14T09:27:25.562885",
     "exception": false,
     "start_time": "2022-10-14T09:27:25.554042",
     "status": "completed"
    },
    "tags": []
   },
   "source": [
    "## SibSp"
   ]
  },
  {
   "cell_type": "code",
   "execution_count": 11,
   "id": "70cfdfa0",
   "metadata": {
    "execution": {
     "iopub.execute_input": "2022-10-14T09:27:25.583165Z",
     "iopub.status.busy": "2022-10-14T09:27:25.582737Z",
     "iopub.status.idle": "2022-10-14T09:27:25.878998Z",
     "shell.execute_reply": "2022-10-14T09:27:25.878001Z"
    },
    "papermill": {
     "duration": 0.309085,
     "end_time": "2022-10-14T09:27:25.881376",
     "exception": false,
     "start_time": "2022-10-14T09:27:25.572291",
     "status": "completed"
    },
    "tags": []
   },
   "outputs": [
    {
     "data": {
      "image/png": "[encoded data removed]",
      "text/plain": [
       "<Figure size 720x432 with 1 Axes>"
      ]
     },
     "metadata": {
      "needs_background": "light"
     },
     "output_type": "display_data"
    }
   ],
   "source": [
    "plt.figure(figsize=(10,6))\n",
    "plt.title(\"# Siblings and Spouses histogram by Survived\")\n",
    "\n",
    "ax = sns.histplot(data=titanic_data, x=\"SibSp\", hue=\"Survived\", bins=10)\n",
    "\n",
    "#plt.xticks(np.arange(0, 101, 1))\n",
    "#plt.xlim((0, 80))\n",
    "\n",
    "#ax.tick_params(axis=\"x\", rotation=90)\n",
    "\n",
    "plt.show()"
   ]
  },
  {
   "cell_type": "code",
   "execution_count": 12,
   "id": "c3a61b5f",
   "metadata": {
    "execution": {
     "iopub.execute_input": "2022-10-14T09:27:25.904026Z",
     "iopub.status.busy": "2022-10-14T09:27:25.903635Z",
     "iopub.status.idle": "2022-10-14T09:27:26.215060Z",
     "shell.execute_reply": "2022-10-14T09:27:26.213938Z"
    },
    "papermill": {
     "duration": 0.325511,
     "end_time": "2022-10-14T09:27:26.217275",
     "exception": false,
     "start_time": "2022-10-14T09:27:25.891764",
     "status": "completed"
    },
    "tags": []
   },
   "outputs": [
    {
     "data": {
      "image/png": "[encoded data removed]",
      "text/plain": [
       "<Figure size 720x432 with 1 Axes>"
      ]
     },
     "metadata": {
      "needs_background": "light"
     },
     "output_type": "display_data"
    }
   ],
   "source": [
    "plt.figure(figsize=(10,6))\n",
    "plt.title(\"# Siblings and Spouses histogram by Survived\")\n",
    "\n",
    "ax = sns.histplot(data=titanic_data, x=\"SibSp\", hue=\"Survived\", bins=10)\n",
    "\n",
    "#plt.xticks(np.arange(0, 101, 1))\n",
    "#plt.xlim((0, 80))\n",
    "\n",
    "#ax.tick_params(axis=\"x\", rotation=90)\n",
    "\n",
    "plt.show()"
   ]
  },
  {
   "cell_type": "markdown",
   "id": "f9d305fb",
   "metadata": {
    "papermill": {
     "duration": 0.009427,
     "end_time": "2022-10-14T09:27:26.236798",
     "exception": false,
     "start_time": "2022-10-14T09:27:26.227371",
     "status": "completed"
    },
    "tags": []
   },
   "source": [
    "### SibSp and Pclass and Survived"
   ]
  },
  {
   "cell_type": "code",
   "execution_count": 13,
   "id": "96307b1e",
   "metadata": {
    "execution": {
     "iopub.execute_input": "2022-10-14T09:27:26.257581Z",
     "iopub.status.busy": "2022-10-14T09:27:26.257187Z",
     "iopub.status.idle": "2022-10-14T09:27:27.106623Z",
     "shell.execute_reply": "2022-10-14T09:27:27.105469Z"
    },
    "papermill": {
     "duration": 0.862577,
     "end_time": "2022-10-14T09:27:27.109051",
     "exception": false,
     "start_time": "2022-10-14T09:27:26.246474",
     "status": "completed"
    },
    "tags": []
   },
   "outputs": [
    {
     "data": {
      "image/png": "[encoded data removed]",
      "text/plain": [
       "<Figure size 720x432 with 1 Axes>"
      ]
     },
     "metadata": {
      "needs_background": "light"
     },
     "output_type": "display_data"
    },
    {
     "data": {
      "image/png": "[encoded data removed]",
      "text/plain": [
       "<Figure size 720x432 with 1 Axes>"
      ]
     },
     "metadata": {
      "needs_background": "light"
     },
     "output_type": "display_data"
    },
    {
     "data": {
      "image/png": "[encoded data removed]",
      "text/plain": [
       "<Figure size 720x432 with 1 Axes>"
      ]
     },
     "metadata": {
      "needs_background": "light"
     },
     "output_type": "display_data"
    }
   ],
   "source": [
    "plt.figure(figsize=(10,6))\n",
    "plt.title(\"# SibSp histogram by Survived with Only first class people\")\n",
    "ax = sns.histplot(data=titanic_data[titanic_data[\"Pclass\"] == 1], x=\"SibSp\", hue=\"Survived\", bins=10)\n",
    "#------------------\n",
    "\n",
    "plt.figure(figsize=(10,6))\n",
    "plt.title(\"# SibSp histogram by Survived with Only second class people\")\n",
    "ax = sns.histplot(data=titanic_data[titanic_data[\"Pclass\"] == 2], x=\"SibSp\", hue=\"Survived\", bins=10)\n",
    "#------------------\n",
    "\n",
    "plt.figure(figsize=(10,6))\n",
    "plt.title(\"# SibSp histogram by Survived with Only third class people\")\n",
    "ax = sns.histplot(data=titanic_data[titanic_data[\"Pclass\"] == 3], x=\"SibSp\", hue=\"Survived\", bins=10)\n",
    "\n",
    "plt.show()"
   ]
  },
  {
   "cell_type": "code",
   "execution_count": 14,
   "id": "f3636722",
   "metadata": {
    "execution": {
     "iopub.execute_input": "2022-10-14T09:27:27.133022Z",
     "iopub.status.busy": "2022-10-14T09:27:27.132588Z",
     "iopub.status.idle": "2022-10-14T09:27:27.154693Z",
     "shell.execute_reply": "2022-10-14T09:27:27.153722Z"
    },
    "papermill": {
     "duration": 0.036424,
     "end_time": "2022-10-14T09:27:27.156792",
     "exception": false,
     "start_time": "2022-10-14T09:27:27.120368",
     "status": "completed"
    },
    "tags": []
   },
   "outputs": [
    {
     "data": {
      "text/html": [
       "<div>\n",
       "<style scoped>\n",
       "    .dataframe tbody tr th:only-of-type {\n",
       "        vertical-align: middle;\n",
       "    }\n",
       "\n",
       "    .dataframe tbody tr th {\n",
       "        vertical-align: top;\n",
       "    }\n",
       "\n",
       "    .dataframe thead th {\n",
       "        text-align: right;\n",
       "    }\n",
       "</style>\n",
       "<table border=\"1\" class=\"dataframe\">\n",
       "  <thead>\n",
       "    <tr style=\"text-align: right;\">\n",
       "      <th></th>\n",
       "      <th>PassengerId</th>\n",
       "      <th>Survived</th>\n",
       "      <th>Pclass</th>\n",
       "      <th>Name</th>\n",
       "      <th>Sex</th>\n",
       "      <th>Age</th>\n",
       "      <th>SibSp</th>\n",
       "      <th>Parch</th>\n",
       "      <th>Ticket</th>\n",
       "      <th>Fare</th>\n",
       "      <th>Cabin</th>\n",
       "      <th>Embarked</th>\n",
       "    </tr>\n",
       "  </thead>\n",
       "  <tbody>\n",
       "    <tr>\n",
       "      <th>24</th>\n",
       "      <td>25</td>\n",
       "      <td>0</td>\n",
       "      <td>3</td>\n",
       "      <td>Palsson, Miss. Torborg Danira</td>\n",
       "      <td>female</td>\n",
       "      <td>8.0</td>\n",
       "      <td>3</td>\n",
       "      <td>1</td>\n",
       "      <td>349909</td>\n",
       "      <td>21.0750</td>\n",
       "      <td>NaN</td>\n",
       "      <td>S</td>\n",
       "    </tr>\n",
       "    <tr>\n",
       "      <th>68</th>\n",
       "      <td>69</td>\n",
       "      <td>1</td>\n",
       "      <td>3</td>\n",
       "      <td>Andersson, Miss. Erna Alexandra</td>\n",
       "      <td>female</td>\n",
       "      <td>17.0</td>\n",
       "      <td>4</td>\n",
       "      <td>2</td>\n",
       "      <td>3101281</td>\n",
       "      <td>7.9250</td>\n",
       "      <td>NaN</td>\n",
       "      <td>S</td>\n",
       "    </tr>\n",
       "    <tr>\n",
       "      <th>71</th>\n",
       "      <td>72</td>\n",
       "      <td>0</td>\n",
       "      <td>3</td>\n",
       "      <td>Goodwin, Miss. Lillian Amy</td>\n",
       "      <td>female</td>\n",
       "      <td>16.0</td>\n",
       "      <td>5</td>\n",
       "      <td>2</td>\n",
       "      <td>CA 2144</td>\n",
       "      <td>46.9000</td>\n",
       "      <td>NaN</td>\n",
       "      <td>S</td>\n",
       "    </tr>\n",
       "    <tr>\n",
       "      <th>85</th>\n",
       "      <td>86</td>\n",
       "      <td>1</td>\n",
       "      <td>3</td>\n",
       "      <td>Backstrom, Mrs. Karl Alfred (Maria Mathilda Gu...</td>\n",
       "      <td>female</td>\n",
       "      <td>33.0</td>\n",
       "      <td>3</td>\n",
       "      <td>0</td>\n",
       "      <td>3101278</td>\n",
       "      <td>15.8500</td>\n",
       "      <td>NaN</td>\n",
       "      <td>S</td>\n",
       "    </tr>\n",
       "    <tr>\n",
       "      <th>88</th>\n",
       "      <td>89</td>\n",
       "      <td>1</td>\n",
       "      <td>1</td>\n",
       "      <td>Fortune, Miss. Mabel Helen</td>\n",
       "      <td>female</td>\n",
       "      <td>23.0</td>\n",
       "      <td>3</td>\n",
       "      <td>2</td>\n",
       "      <td>19950</td>\n",
       "      <td>263.0000</td>\n",
       "      <td>C23 C25 C27</td>\n",
       "      <td>S</td>\n",
       "    </tr>\n",
       "    <tr>\n",
       "      <th>119</th>\n",
       "      <td>120</td>\n",
       "      <td>0</td>\n",
       "      <td>3</td>\n",
       "      <td>Andersson, Miss. Ellis Anna Maria</td>\n",
       "      <td>female</td>\n",
       "      <td>2.0</td>\n",
       "      <td>4</td>\n",
       "      <td>2</td>\n",
       "      <td>347082</td>\n",
       "      <td>31.2750</td>\n",
       "      <td>NaN</td>\n",
       "      <td>S</td>\n",
       "    </tr>\n",
       "    <tr>\n",
       "      <th>180</th>\n",
       "      <td>181</td>\n",
       "      <td>0</td>\n",
       "      <td>3</td>\n",
       "      <td>Sage, Miss. Constance Gladys</td>\n",
       "      <td>female</td>\n",
       "      <td>NaN</td>\n",
       "      <td>8</td>\n",
       "      <td>2</td>\n",
       "      <td>CA. 2343</td>\n",
       "      <td>69.5500</td>\n",
       "      <td>NaN</td>\n",
       "      <td>S</td>\n",
       "    </tr>\n",
       "    <tr>\n",
       "      <th>229</th>\n",
       "      <td>230</td>\n",
       "      <td>0</td>\n",
       "      <td>3</td>\n",
       "      <td>Lefebre, Miss. Mathilde</td>\n",
       "      <td>female</td>\n",
       "      <td>NaN</td>\n",
       "      <td>3</td>\n",
       "      <td>1</td>\n",
       "      <td>4133</td>\n",
       "      <td>25.4667</td>\n",
       "      <td>NaN</td>\n",
       "      <td>S</td>\n",
       "    </tr>\n",
       "    <tr>\n",
       "      <th>233</th>\n",
       "      <td>234</td>\n",
       "      <td>1</td>\n",
       "      <td>3</td>\n",
       "      <td>Asplund, Miss. Lillian Gertrud</td>\n",
       "      <td>female</td>\n",
       "      <td>5.0</td>\n",
       "      <td>4</td>\n",
       "      <td>2</td>\n",
       "      <td>347077</td>\n",
       "      <td>31.3875</td>\n",
       "      <td>NaN</td>\n",
       "      <td>S</td>\n",
       "    </tr>\n",
       "    <tr>\n",
       "      <th>341</th>\n",
       "      <td>342</td>\n",
       "      <td>1</td>\n",
       "      <td>1</td>\n",
       "      <td>Fortune, Miss. Alice Elizabeth</td>\n",
       "      <td>female</td>\n",
       "      <td>24.0</td>\n",
       "      <td>3</td>\n",
       "      <td>2</td>\n",
       "      <td>19950</td>\n",
       "      <td>263.0000</td>\n",
       "      <td>C23 C25 C27</td>\n",
       "      <td>S</td>\n",
       "    </tr>\n",
       "    <tr>\n",
       "      <th>374</th>\n",
       "      <td>375</td>\n",
       "      <td>0</td>\n",
       "      <td>3</td>\n",
       "      <td>Palsson, Miss. Stina Viola</td>\n",
       "      <td>female</td>\n",
       "      <td>3.0</td>\n",
       "      <td>3</td>\n",
       "      <td>1</td>\n",
       "      <td>349909</td>\n",
       "      <td>21.0750</td>\n",
       "      <td>NaN</td>\n",
       "      <td>S</td>\n",
       "    </tr>\n",
       "    <tr>\n",
       "      <th>409</th>\n",
       "      <td>410</td>\n",
       "      <td>0</td>\n",
       "      <td>3</td>\n",
       "      <td>Lefebre, Miss. Ida</td>\n",
       "      <td>female</td>\n",
       "      <td>NaN</td>\n",
       "      <td>3</td>\n",
       "      <td>1</td>\n",
       "      <td>4133</td>\n",
       "      <td>25.4667</td>\n",
       "      <td>NaN</td>\n",
       "      <td>S</td>\n",
       "    </tr>\n",
       "    <tr>\n",
       "      <th>485</th>\n",
       "      <td>486</td>\n",
       "      <td>0</td>\n",
       "      <td>3</td>\n",
       "      <td>Lefebre, Miss. Jeannie</td>\n",
       "      <td>female</td>\n",
       "      <td>NaN</td>\n",
       "      <td>3</td>\n",
       "      <td>1</td>\n",
       "      <td>4133</td>\n",
       "      <td>25.4667</td>\n",
       "      <td>NaN</td>\n",
       "      <td>S</td>\n",
       "    </tr>\n",
       "    <tr>\n",
       "      <th>541</th>\n",
       "      <td>542</td>\n",
       "      <td>0</td>\n",
       "      <td>3</td>\n",
       "      <td>Andersson, Miss. Ingeborg Constanzia</td>\n",
       "      <td>female</td>\n",
       "      <td>9.0</td>\n",
       "      <td>4</td>\n",
       "      <td>2</td>\n",
       "      <td>347082</td>\n",
       "      <td>31.2750</td>\n",
       "      <td>NaN</td>\n",
       "      <td>S</td>\n",
       "    </tr>\n",
       "    <tr>\n",
       "      <th>542</th>\n",
       "      <td>543</td>\n",
       "      <td>0</td>\n",
       "      <td>3</td>\n",
       "      <td>Andersson, Miss. Sigrid Elisabeth</td>\n",
       "      <td>female</td>\n",
       "      <td>11.0</td>\n",
       "      <td>4</td>\n",
       "      <td>2</td>\n",
       "      <td>347082</td>\n",
       "      <td>31.2750</td>\n",
       "      <td>NaN</td>\n",
       "      <td>S</td>\n",
       "    </tr>\n",
       "    <tr>\n",
       "      <th>634</th>\n",
       "      <td>635</td>\n",
       "      <td>0</td>\n",
       "      <td>3</td>\n",
       "      <td>Skoog, Miss. Mabel</td>\n",
       "      <td>female</td>\n",
       "      <td>9.0</td>\n",
       "      <td>3</td>\n",
       "      <td>2</td>\n",
       "      <td>347088</td>\n",
       "      <td>27.9000</td>\n",
       "      <td>NaN</td>\n",
       "      <td>S</td>\n",
       "    </tr>\n",
       "    <tr>\n",
       "      <th>642</th>\n",
       "      <td>643</td>\n",
       "      <td>0</td>\n",
       "      <td>3</td>\n",
       "      <td>Skoog, Miss. Margit Elizabeth</td>\n",
       "      <td>female</td>\n",
       "      <td>2.0</td>\n",
       "      <td>3</td>\n",
       "      <td>2</td>\n",
       "      <td>347088</td>\n",
       "      <td>27.9000</td>\n",
       "      <td>NaN</td>\n",
       "      <td>S</td>\n",
       "    </tr>\n",
       "    <tr>\n",
       "      <th>726</th>\n",
       "      <td>727</td>\n",
       "      <td>1</td>\n",
       "      <td>2</td>\n",
       "      <td>Renouf, Mrs. Peter Henry (Lillian Jefferys)</td>\n",
       "      <td>female</td>\n",
       "      <td>30.0</td>\n",
       "      <td>3</td>\n",
       "      <td>0</td>\n",
       "      <td>31027</td>\n",
       "      <td>21.0000</td>\n",
       "      <td>NaN</td>\n",
       "      <td>S</td>\n",
       "    </tr>\n",
       "    <tr>\n",
       "      <th>792</th>\n",
       "      <td>793</td>\n",
       "      <td>0</td>\n",
       "      <td>3</td>\n",
       "      <td>Sage, Miss. Stella Anna</td>\n",
       "      <td>female</td>\n",
       "      <td>NaN</td>\n",
       "      <td>8</td>\n",
       "      <td>2</td>\n",
       "      <td>CA. 2343</td>\n",
       "      <td>69.5500</td>\n",
       "      <td>NaN</td>\n",
       "      <td>S</td>\n",
       "    </tr>\n",
       "    <tr>\n",
       "      <th>813</th>\n",
       "      <td>814</td>\n",
       "      <td>0</td>\n",
       "      <td>3</td>\n",
       "      <td>Andersson, Miss. Ebba Iris Alfrida</td>\n",
       "      <td>female</td>\n",
       "      <td>6.0</td>\n",
       "      <td>4</td>\n",
       "      <td>2</td>\n",
       "      <td>347082</td>\n",
       "      <td>31.2750</td>\n",
       "      <td>NaN</td>\n",
       "      <td>S</td>\n",
       "    </tr>\n",
       "    <tr>\n",
       "      <th>863</th>\n",
       "      <td>864</td>\n",
       "      <td>0</td>\n",
       "      <td>3</td>\n",
       "      <td>Sage, Miss. Dorothy Edith \"Dolly\"</td>\n",
       "      <td>female</td>\n",
       "      <td>NaN</td>\n",
       "      <td>8</td>\n",
       "      <td>2</td>\n",
       "      <td>CA. 2343</td>\n",
       "      <td>69.5500</td>\n",
       "      <td>NaN</td>\n",
       "      <td>S</td>\n",
       "    </tr>\n",
       "  </tbody>\n",
       "</table>\n",
       "</div>"
      ],
      "text/plain": [
       "     PassengerId  Survived  Pclass  \\\n",
       "24            25         0       3   \n",
       "68            69         1       3   \n",
       "71            72         0       3   \n",
       "85            86         1       3   \n",
       "88            89         1       1   \n",
       "119          120         0       3   \n",
       "180          181         0       3   \n",
       "229          230         0       3   \n",
       "233          234         1       3   \n",
       "341          342         1       1   \n",
       "374          375         0       3   \n",
       "409          410         0       3   \n",
       "485          486         0       3   \n",
       "541          542         0       3   \n",
       "542          543         0       3   \n",
       "634          635         0       3   \n",
       "642          643         0       3   \n",
       "726          727         1       2   \n",
       "792          793         0       3   \n",
       "813          814         0       3   \n",
       "863          864         0       3   \n",
       "\n",
       "                                                  Name     Sex   Age  SibSp  \\\n",
       "24                       Palsson, Miss. Torborg Danira  female   8.0      3   \n",
       "68                     Andersson, Miss. Erna Alexandra  female  17.0      4   \n",
       "71                          Goodwin, Miss. Lillian Amy  female  16.0      5   \n",
       "85   Backstrom, Mrs. Karl Alfred (Maria Mathilda Gu...  female  33.0      3   \n",
       "88                          Fortune, Miss. Mabel Helen  female  23.0      3   \n",
       "119                  Andersson, Miss. Ellis Anna Maria  female   2.0      4   \n",
       "180                       Sage, Miss. Constance Gladys  female   NaN      8   \n",
       "229                            Lefebre, Miss. Mathilde  female   NaN      3   \n",
       "233                     Asplund, Miss. Lillian Gertrud  female   5.0      4   \n",
       "341                     Fortune, Miss. Alice Elizabeth  female  24.0      3   \n",
       "374                         Palsson, Miss. Stina Viola  female   3.0      3   \n",
       "409                                 Lefebre, Miss. Ida  female   NaN      3   \n",
       "485                             Lefebre, Miss. Jeannie  female   NaN      3   \n",
       "541               Andersson, Miss. Ingeborg Constanzia  female   9.0      4   \n",
       "542                  Andersson, Miss. Sigrid Elisabeth  female  11.0      4   \n",
       "634                                 Skoog, Miss. Mabel  female   9.0      3   \n",
       "642                      Skoog, Miss. Margit Elizabeth  female   2.0      3   \n",
       "726        Renouf, Mrs. Peter Henry (Lillian Jefferys)  female  30.0      3   \n",
       "792                            Sage, Miss. Stella Anna  female   NaN      8   \n",
       "813                 Andersson, Miss. Ebba Iris Alfrida  female   6.0      4   \n",
       "863                  Sage, Miss. Dorothy Edith \"Dolly\"  female   NaN      8   \n",
       "\n",
       "     Parch    Ticket      Fare        Cabin Embarked  \n",
       "24       1    349909   21.0750          NaN        S  \n",
       "68       2   3101281    7.9250          NaN        S  \n",
       "71       2   CA 2144   46.9000          NaN        S  \n",
       "85       0   3101278   15.8500          NaN        S  \n",
       "88       2     19950  263.0000  C23 C25 C27        S  \n",
       "119      2    347082   31.2750          NaN        S  \n",
       "180      2  CA. 2343   69.5500          NaN        S  \n",
       "229      1      4133   25.4667          NaN        S  \n",
       "233      2    347077   31.3875          NaN        S  \n",
       "341      2     19950  263.0000  C23 C25 C27        S  \n",
       "374      1    349909   21.0750          NaN        S  \n",
       "409      1      4133   25.4667          NaN        S  \n",
       "485      1      4133   25.4667          NaN        S  \n",
       "541      2    347082   31.2750          NaN        S  \n",
       "542      2    347082   31.2750          NaN        S  \n",
       "634      2    347088   27.9000          NaN        S  \n",
       "642      2    347088   27.9000          NaN        S  \n",
       "726      0     31027   21.0000          NaN        S  \n",
       "792      2  CA. 2343   69.5500          NaN        S  \n",
       "813      2    347082   31.2750          NaN        S  \n",
       "863      2  CA. 2343   69.5500          NaN        S  "
      ]
     },
     "execution_count": 14,
     "metadata": {},
     "output_type": "execute_result"
    }
   ],
   "source": [
    "titanic_data[(titanic_data[\"Sex\"] == \"female\") & (titanic_data[\"SibSp\"] >= 3)]"
   ]
  }
 ],
 "metadata": {
  "kernelspec": {
   "display_name": "Python 3",
   "language": "python",
   "name": "python3"
  },
  "language_info": {
   "codemirror_mode": {
    "name": "ipython",
    "version": 3
   },
   "file_extension": ".py",
   "mimetype": "text/x-python",
   "name": "python",
   "nbconvert_exporter": "python",
   "pygments_lexer": "ipython3",
   "version": "3.7.12"
  },
  "papermill": {
   "default_parameters": {},
   "duration": 20.261178,
   "end_time": "2022-10-14T09:27:27.888925",
   "environment_variables": {},
   "exception": null,
   "input_path": "__notebook__.ipynb",
   "output_path": "__notebook__.ipynb",
   "parameters": {},
   "start_time": "2022-10-14T09:27:07.627747",
   "version": "2.3.4"
  }
 },
 "nbformat": 4,
 "nbformat_minor": 5
}
