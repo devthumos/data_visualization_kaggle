{
 "cells": [
  {
   "cell_type": "markdown",
   "id": "3b2613ca",
   "metadata": {
    "papermill": {
     "duration": 0.007823,
     "end_time": "2022-10-14T03:18:04.766227",
     "exception": false,
     "start_time": "2022-10-14T03:18:04.758404",
     "status": "completed"
    },
    "tags": []
   },
   "source": [
    "**This notebook is an exercise in the [Data Visualization](https://www.kaggle.com/learn/data-visualization) course.  You can reference the tutorial at [this link](https://www.kaggle.com/alexisbcook/distributions).**\n",
    "\n",
    "---\n"
   ]
  },
  {
   "cell_type": "markdown",
   "id": "ad2b14a3",
   "metadata": {
    "papermill": {
     "duration": 0.006147,
     "end_time": "2022-10-14T03:18:04.778967",
     "exception": false,
     "start_time": "2022-10-14T03:18:04.772820",
     "status": "completed"
    },
    "tags": []
   },
   "source": [
    "In this exercise, you will use your new knowledge to propose a solution to a real-world scenario.  To succeed, you will need to import data into Python, answer questions using the data, and generate **histograms** and **density plots** to understand patterns in the data.\n",
    "\n",
    "## Scenario\n",
    "\n",
    "You'll work with a real-world dataset containing information collected from microscopic images of breast cancer tumors, similar to the image below.\n",
    "\n",
    "![ex4_cancer_image](https://i.imgur.com/qUESsJe.png)\n",
    "\n",
    "Each tumor has been labeled as either [**benign**](https://en.wikipedia.org/wiki/Benign_tumor) (_noncancerous_) or **malignant** (_cancerous_).\n",
    "\n",
    "To learn more about how this kind of data is used to create intelligent algorithms to classify tumors in medical settings, **watch the short video [at this link](https://www.youtube.com/watch?v=9Mz84cwVmS0)**."
   ]
  },
  {
   "cell_type": "markdown",
   "id": "322f4e18",
   "metadata": {
    "papermill": {
     "duration": 0.006553,
     "end_time": "2022-10-14T03:18:04.791738",
     "exception": false,
     "start_time": "2022-10-14T03:18:04.785185",
     "status": "completed"
    },
    "tags": []
   },
   "source": [
    "\n",
    "\n",
    "## Setup\n",
    "\n",
    "Run the next cell to import and configure the Python libraries that you need to complete the exercise."
   ]
  },
  {
   "cell_type": "code",
   "execution_count": 1,
   "id": "fb70a491",
   "metadata": {
    "execution": {
     "iopub.execute_input": "2022-10-14T03:18:04.806882Z",
     "iopub.status.busy": "2022-10-14T03:18:04.806190Z",
     "iopub.status.idle": "2022-10-14T03:18:05.806864Z",
     "shell.execute_reply": "2022-10-14T03:18:05.805696Z"
    },
    "papermill": {
     "duration": 1.011418,
     "end_time": "2022-10-14T03:18:05.809692",
     "exception": false,
     "start_time": "2022-10-14T03:18:04.798274",
     "status": "completed"
    },
    "tags": []
   },
   "outputs": [
    {
     "name": "stdout",
     "output_type": "stream",
     "text": [
      "Setup Complete\n"
     ]
    }
   ],
   "source": [
    "import pandas as pd\n",
    "pd.plotting.register_matplotlib_converters()\n",
    "import matplotlib.pyplot as plt\n",
    "%matplotlib inline\n",
    "import seaborn as sns\n",
    "print(\"Setup Complete\")"
   ]
  },
  {
   "cell_type": "markdown",
   "id": "39d298f0",
   "metadata": {
    "papermill": {
     "duration": 0.006198,
     "end_time": "2022-10-14T03:18:05.823359",
     "exception": false,
     "start_time": "2022-10-14T03:18:05.817161",
     "status": "completed"
    },
    "tags": []
   },
   "source": [
    "The questions below will give you feedback on your work. Run the following cell to set up our feedback system."
   ]
  },
  {
   "cell_type": "code",
   "execution_count": 2,
   "id": "b616ca04",
   "metadata": {
    "execution": {
     "iopub.execute_input": "2022-10-14T03:18:05.838162Z",
     "iopub.status.busy": "2022-10-14T03:18:05.837545Z",
     "iopub.status.idle": "2022-10-14T03:18:25.837130Z",
     "shell.execute_reply": "2022-10-14T03:18:25.836166Z"
    },
    "papermill": {
     "duration": 20.010378,
     "end_time": "2022-10-14T03:18:25.840086",
     "exception": false,
     "start_time": "2022-10-14T03:18:05.829708",
     "status": "completed"
    },
    "tags": []
   },
   "outputs": [
    {
     "name": "stdout",
     "output_type": "stream",
     "text": [
      "Collecting git+https://github.com/Kaggle/learntools.git@master\r\n",
      "  Cloning https://github.com/Kaggle/learntools.git (to revision master) to /tmp/pip-req-build-5o8bkddw\r\n",
      "  Running command git clone --filter=blob:none --quiet https://github.com/Kaggle/learntools.git /tmp/pip-req-build-5o8bkddw\r\n",
      "  Resolved https://github.com/Kaggle/learntools.git to commit bcb7329ecdcd9c40e80637aba228edd4cb4950b4\r\n",
      "  Preparing metadata (setup.py) ... \u001b[?25l-\b \bdone\r\n",
      "\u001b[?25hBuilding wheels for collected packages: learntools\r\n",
      "  Building wheel for learntools (setup.py) ... \u001b[?25l-\b \b\\\b \b|\b \bdone\r\n",
      "\u001b[?25h  Created wheel for learntools: filename=learntools-0.3.4-py3-none-any.whl size=267787 sha256=eb80f6327c9c76475f3004651a3ef4cf8e486742de608465f9afb58849a25496\r\n",
      "  Stored in directory: /tmp/pip-ephem-wheel-cache-vi0a00gi/wheels/96/98/04/32b386c4641f1aea964eebb0148dc4632b25195ed8e54869c8\r\n",
      "Successfully built learntools\r\n",
      "Installing collected packages: learntools\r\n",
      "Successfully installed learntools-0.3.4\r\n",
      "\u001b[33mWARNING: Running pip as the 'root' user can result in broken permissions and conflicting behaviour with the system package manager. It is recommended to use a virtual environment instead: https://pip.pypa.io/warnings/venv\u001b[0m\u001b[33m\r\n",
      "\u001b[0mSetup Complete\n"
     ]
    }
   ],
   "source": [
    "# Set up code checking\n",
    "!pip install -U -t /kaggle/working/ git+https://github.com/Kaggle/learntools.git@master\n",
    "from learntools.core import binder\n",
    "binder.bind(globals())\n",
    "from learntools.data_viz_to_coder.ex5 import *\n",
    "print(\"Setup Complete\")"
   ]
  },
  {
   "cell_type": "markdown",
   "id": "7d766dcc",
   "metadata": {
    "papermill": {
     "duration": 0.006908,
     "end_time": "2022-10-14T03:18:25.857718",
     "exception": false,
     "start_time": "2022-10-14T03:18:25.850810",
     "status": "completed"
    },
    "tags": []
   },
   "source": [
    "## Step 1: Load the data\n",
    "\n",
    "In this step, you will load the data.\n",
    "- Load the data file into a DataFrame called `cancer_data`.  \n",
    "- The corresponding filepath is `cancer_filepath`.  \n",
    "- Use the `\"Id\"` column to label the rows."
   ]
  },
  {
   "cell_type": "code",
   "execution_count": 3,
   "id": "d703528a",
   "metadata": {
    "execution": {
     "iopub.execute_input": "2022-10-14T03:18:25.874774Z",
     "iopub.status.busy": "2022-10-14T03:18:25.873633Z",
     "iopub.status.idle": "2022-10-14T03:18:25.899568Z",
     "shell.execute_reply": "2022-10-14T03:18:25.898384Z"
    },
    "papermill": {
     "duration": 0.037071,
     "end_time": "2022-10-14T03:18:25.901869",
     "exception": false,
     "start_time": "2022-10-14T03:18:25.864798",
     "status": "completed"
    },
    "tags": []
   },
   "outputs": [
    {
     "data": {
      "application/javascript": [
       "parent.postMessage({\"jupyterEvent\": \"custom.exercise_interaction\", \"data\": {\"outcomeType\": 1, \"valueTowardsCompletion\": 0.5, \"interactionType\": 1, \"questionType\": 1, \"questionId\": \"1_LoadCancerData\", \"learnToolsVersion\": \"0.3.4\", \"failureMessage\": \"\", \"exceptionClass\": \"\", \"trace\": \"\"}}, \"*\")"
      ],
      "text/plain": [
       "<IPython.core.display.Javascript object>"
      ]
     },
     "metadata": {},
     "output_type": "display_data"
    },
    {
     "data": {
      "text/markdown": [
       "<span style=\"color:#33cc33\">Correct</span>"
      ],
      "text/plain": [
       "Correct"
      ]
     },
     "metadata": {},
     "output_type": "display_data"
    }
   ],
   "source": [
    "# Path of the files to read\n",
    "cancer_filepath = \"../input/cancer.csv\"\n",
    "\n",
    "# Fill in the line below to read the file into a variable cancer_data\n",
    "cancer_data = pd.read_csv(cancer_filepath, index_col=\"Id\", delimiter=\",\", decimal=\".\")\n",
    "\n",
    "# Run the line below with no changes to check that you've loaded the data correctly\n",
    "step_1.check()"
   ]
  },
  {
   "cell_type": "code",
   "execution_count": 4,
   "id": "0ee632c8",
   "metadata": {
    "execution": {
     "iopub.execute_input": "2022-10-14T03:18:25.920264Z",
     "iopub.status.busy": "2022-10-14T03:18:25.918986Z",
     "iopub.status.idle": "2022-10-14T03:18:25.924136Z",
     "shell.execute_reply": "2022-10-14T03:18:25.923123Z"
    },
    "papermill": {
     "duration": 0.016804,
     "end_time": "2022-10-14T03:18:25.926188",
     "exception": false,
     "start_time": "2022-10-14T03:18:25.909384",
     "status": "completed"
    },
    "tags": []
   },
   "outputs": [],
   "source": [
    "# Lines below will give you a hint or solution code\n",
    "#step_1.hint()\n",
    "#step_1.solution()"
   ]
  },
  {
   "cell_type": "markdown",
   "id": "f0a4234c",
   "metadata": {
    "papermill": {
     "duration": 0.007173,
     "end_time": "2022-10-14T03:18:25.940719",
     "exception": false,
     "start_time": "2022-10-14T03:18:25.933546",
     "status": "completed"
    },
    "tags": []
   },
   "source": [
    "## Step 2: Review the data\n",
    "\n",
    "Use a Python command to print the first 5 rows of the data."
   ]
  },
  {
   "cell_type": "code",
   "execution_count": 5,
   "id": "17c14d01",
   "metadata": {
    "execution": {
     "iopub.execute_input": "2022-10-14T03:18:25.958939Z",
     "iopub.status.busy": "2022-10-14T03:18:25.958214Z",
     "iopub.status.idle": "2022-10-14T03:18:25.991609Z",
     "shell.execute_reply": "2022-10-14T03:18:25.990581Z"
    },
    "papermill": {
     "duration": 0.044964,
     "end_time": "2022-10-14T03:18:25.993853",
     "exception": false,
     "start_time": "2022-10-14T03:18:25.948889",
     "status": "completed"
    },
    "tags": []
   },
   "outputs": [
    {
     "data": {
      "text/html": [
       "<div>\n",
       "<style scoped>\n",
       "    .dataframe tbody tr th:only-of-type {\n",
       "        vertical-align: middle;\n",
       "    }\n",
       "\n",
       "    .dataframe tbody tr th {\n",
       "        vertical-align: top;\n",
       "    }\n",
       "\n",
       "    .dataframe thead th {\n",
       "        text-align: right;\n",
       "    }\n",
       "</style>\n",
       "<table border=\"1\" class=\"dataframe\">\n",
       "  <thead>\n",
       "    <tr style=\"text-align: right;\">\n",
       "      <th></th>\n",
       "      <th>Diagnosis</th>\n",
       "      <th>Radius (mean)</th>\n",
       "      <th>Texture (mean)</th>\n",
       "      <th>Perimeter (mean)</th>\n",
       "      <th>Area (mean)</th>\n",
       "      <th>Smoothness (mean)</th>\n",
       "      <th>Compactness (mean)</th>\n",
       "      <th>Concavity (mean)</th>\n",
       "      <th>Concave points (mean)</th>\n",
       "      <th>Symmetry (mean)</th>\n",
       "      <th>...</th>\n",
       "      <th>Radius (worst)</th>\n",
       "      <th>Texture (worst)</th>\n",
       "      <th>Perimeter (worst)</th>\n",
       "      <th>Area (worst)</th>\n",
       "      <th>Smoothness (worst)</th>\n",
       "      <th>Compactness (worst)</th>\n",
       "      <th>Concavity (worst)</th>\n",
       "      <th>Concave points (worst)</th>\n",
       "      <th>Symmetry (worst)</th>\n",
       "      <th>Fractal dimension (worst)</th>\n",
       "    </tr>\n",
       "    <tr>\n",
       "      <th>Id</th>\n",
       "      <th></th>\n",
       "      <th></th>\n",
       "      <th></th>\n",
       "      <th></th>\n",
       "      <th></th>\n",
       "      <th></th>\n",
       "      <th></th>\n",
       "      <th></th>\n",
       "      <th></th>\n",
       "      <th></th>\n",
       "      <th></th>\n",
       "      <th></th>\n",
       "      <th></th>\n",
       "      <th></th>\n",
       "      <th></th>\n",
       "      <th></th>\n",
       "      <th></th>\n",
       "      <th></th>\n",
       "      <th></th>\n",
       "      <th></th>\n",
       "      <th></th>\n",
       "    </tr>\n",
       "  </thead>\n",
       "  <tbody>\n",
       "    <tr>\n",
       "      <th>8510426</th>\n",
       "      <td>B</td>\n",
       "      <td>13.540</td>\n",
       "      <td>14.36</td>\n",
       "      <td>87.46</td>\n",
       "      <td>566.3</td>\n",
       "      <td>0.09779</td>\n",
       "      <td>0.08129</td>\n",
       "      <td>0.06664</td>\n",
       "      <td>0.047810</td>\n",
       "      <td>0.1885</td>\n",
       "      <td>...</td>\n",
       "      <td>15.110</td>\n",
       "      <td>19.26</td>\n",
       "      <td>99.70</td>\n",
       "      <td>711.2</td>\n",
       "      <td>0.14400</td>\n",
       "      <td>0.17730</td>\n",
       "      <td>0.23900</td>\n",
       "      <td>0.12880</td>\n",
       "      <td>0.2977</td>\n",
       "      <td>0.07259</td>\n",
       "    </tr>\n",
       "    <tr>\n",
       "      <th>8510653</th>\n",
       "      <td>B</td>\n",
       "      <td>13.080</td>\n",
       "      <td>15.71</td>\n",
       "      <td>85.63</td>\n",
       "      <td>520.0</td>\n",
       "      <td>0.10750</td>\n",
       "      <td>0.12700</td>\n",
       "      <td>0.04568</td>\n",
       "      <td>0.031100</td>\n",
       "      <td>0.1967</td>\n",
       "      <td>...</td>\n",
       "      <td>14.500</td>\n",
       "      <td>20.49</td>\n",
       "      <td>96.09</td>\n",
       "      <td>630.5</td>\n",
       "      <td>0.13120</td>\n",
       "      <td>0.27760</td>\n",
       "      <td>0.18900</td>\n",
       "      <td>0.07283</td>\n",
       "      <td>0.3184</td>\n",
       "      <td>0.08183</td>\n",
       "    </tr>\n",
       "    <tr>\n",
       "      <th>8510824</th>\n",
       "      <td>B</td>\n",
       "      <td>9.504</td>\n",
       "      <td>12.44</td>\n",
       "      <td>60.34</td>\n",
       "      <td>273.9</td>\n",
       "      <td>0.10240</td>\n",
       "      <td>0.06492</td>\n",
       "      <td>0.02956</td>\n",
       "      <td>0.020760</td>\n",
       "      <td>0.1815</td>\n",
       "      <td>...</td>\n",
       "      <td>10.230</td>\n",
       "      <td>15.66</td>\n",
       "      <td>65.13</td>\n",
       "      <td>314.9</td>\n",
       "      <td>0.13240</td>\n",
       "      <td>0.11480</td>\n",
       "      <td>0.08867</td>\n",
       "      <td>0.06227</td>\n",
       "      <td>0.2450</td>\n",
       "      <td>0.07773</td>\n",
       "    </tr>\n",
       "    <tr>\n",
       "      <th>854941</th>\n",
       "      <td>B</td>\n",
       "      <td>13.030</td>\n",
       "      <td>18.42</td>\n",
       "      <td>82.61</td>\n",
       "      <td>523.8</td>\n",
       "      <td>0.08983</td>\n",
       "      <td>0.03766</td>\n",
       "      <td>0.02562</td>\n",
       "      <td>0.029230</td>\n",
       "      <td>0.1467</td>\n",
       "      <td>...</td>\n",
       "      <td>13.300</td>\n",
       "      <td>22.81</td>\n",
       "      <td>84.46</td>\n",
       "      <td>545.9</td>\n",
       "      <td>0.09701</td>\n",
       "      <td>0.04619</td>\n",
       "      <td>0.04833</td>\n",
       "      <td>0.05013</td>\n",
       "      <td>0.1987</td>\n",
       "      <td>0.06169</td>\n",
       "    </tr>\n",
       "    <tr>\n",
       "      <th>85713702</th>\n",
       "      <td>B</td>\n",
       "      <td>8.196</td>\n",
       "      <td>16.84</td>\n",
       "      <td>51.71</td>\n",
       "      <td>201.9</td>\n",
       "      <td>0.08600</td>\n",
       "      <td>0.05943</td>\n",
       "      <td>0.01588</td>\n",
       "      <td>0.005917</td>\n",
       "      <td>0.1769</td>\n",
       "      <td>...</td>\n",
       "      <td>8.964</td>\n",
       "      <td>21.96</td>\n",
       "      <td>57.26</td>\n",
       "      <td>242.2</td>\n",
       "      <td>0.12970</td>\n",
       "      <td>0.13570</td>\n",
       "      <td>0.06880</td>\n",
       "      <td>0.02564</td>\n",
       "      <td>0.3105</td>\n",
       "      <td>0.07409</td>\n",
       "    </tr>\n",
       "  </tbody>\n",
       "</table>\n",
       "<p>5 rows × 31 columns</p>\n",
       "</div>"
      ],
      "text/plain": [
       "         Diagnosis  Radius (mean)  Texture (mean)  Perimeter (mean)  \\\n",
       "Id                                                                    \n",
       "8510426          B         13.540           14.36             87.46   \n",
       "8510653          B         13.080           15.71             85.63   \n",
       "8510824          B          9.504           12.44             60.34   \n",
       "854941           B         13.030           18.42             82.61   \n",
       "85713702         B          8.196           16.84             51.71   \n",
       "\n",
       "          Area (mean)  Smoothness (mean)  Compactness (mean)  \\\n",
       "Id                                                             \n",
       "8510426         566.3            0.09779             0.08129   \n",
       "8510653         520.0            0.10750             0.12700   \n",
       "8510824         273.9            0.10240             0.06492   \n",
       "854941          523.8            0.08983             0.03766   \n",
       "85713702        201.9            0.08600             0.05943   \n",
       "\n",
       "          Concavity (mean)  Concave points (mean)  Symmetry (mean)  ...  \\\n",
       "Id                                                                  ...   \n",
       "8510426            0.06664               0.047810           0.1885  ...   \n",
       "8510653            0.04568               0.031100           0.1967  ...   \n",
       "8510824            0.02956               0.020760           0.1815  ...   \n",
       "854941             0.02562               0.029230           0.1467  ...   \n",
       "85713702           0.01588               0.005917           0.1769  ...   \n",
       "\n",
       "          Radius (worst)  Texture (worst)  Perimeter (worst)  Area (worst)  \\\n",
       "Id                                                                           \n",
       "8510426           15.110            19.26              99.70         711.2   \n",
       "8510653           14.500            20.49              96.09         630.5   \n",
       "8510824           10.230            15.66              65.13         314.9   \n",
       "854941            13.300            22.81              84.46         545.9   \n",
       "85713702           8.964            21.96              57.26         242.2   \n",
       "\n",
       "          Smoothness (worst)  Compactness (worst)  Concavity (worst)  \\\n",
       "Id                                                                     \n",
       "8510426              0.14400              0.17730            0.23900   \n",
       "8510653              0.13120              0.27760            0.18900   \n",
       "8510824              0.13240              0.11480            0.08867   \n",
       "854941               0.09701              0.04619            0.04833   \n",
       "85713702             0.12970              0.13570            0.06880   \n",
       "\n",
       "          Concave points (worst)  Symmetry (worst)  Fractal dimension (worst)  \n",
       "Id                                                                             \n",
       "8510426                  0.12880            0.2977                    0.07259  \n",
       "8510653                  0.07283            0.3184                    0.08183  \n",
       "8510824                  0.06227            0.2450                    0.07773  \n",
       "854941                   0.05013            0.1987                    0.06169  \n",
       "85713702                 0.02564            0.3105                    0.07409  \n",
       "\n",
       "[5 rows x 31 columns]"
      ]
     },
     "execution_count": 5,
     "metadata": {},
     "output_type": "execute_result"
    }
   ],
   "source": [
    "# Print the first five rows of the data\n",
    "cancer_data.head() # Your code here"
   ]
  },
  {
   "cell_type": "markdown",
   "id": "6ea11e30",
   "metadata": {
    "papermill": {
     "duration": 0.008053,
     "end_time": "2022-10-14T03:18:26.009967",
     "exception": false,
     "start_time": "2022-10-14T03:18:26.001914",
     "status": "completed"
    },
    "tags": []
   },
   "source": [
    "In the dataset, each row corresponds to a different image.  The dataset has 31 different columns, corresponding to:\n",
    "- 1 column (`'Diagnosis'`) that classifies tumors as either benign (which appears in the dataset as **`B`**) or malignant (__`M`__), and\n",
    "- 30 columns containing different measurements collected from the images.\n",
    "\n",
    "Use the first 5 rows of the data to answer the questions below."
   ]
  },
  {
   "cell_type": "code",
   "execution_count": 6,
   "id": "b8dc89a4",
   "metadata": {
    "execution": {
     "iopub.execute_input": "2022-10-14T03:18:26.028185Z",
     "iopub.status.busy": "2022-10-14T03:18:26.027789Z",
     "iopub.status.idle": "2022-10-14T03:18:26.040459Z",
     "shell.execute_reply": "2022-10-14T03:18:26.039403Z"
    },
    "papermill": {
     "duration": 0.024301,
     "end_time": "2022-10-14T03:18:26.042816",
     "exception": false,
     "start_time": "2022-10-14T03:18:26.018515",
     "status": "completed"
    },
    "tags": []
   },
   "outputs": [
    {
     "data": {
      "application/javascript": [
       "parent.postMessage({\"jupyterEvent\": \"custom.exercise_interaction\", \"data\": {\"outcomeType\": 1, \"valueTowardsCompletion\": 0.5, \"interactionType\": 1, \"questionType\": 1, \"questionId\": \"2_ReviewData\", \"learnToolsVersion\": \"0.3.4\", \"failureMessage\": \"\", \"exceptionClass\": \"\", \"trace\": \"\"}}, \"*\")"
      ],
      "text/plain": [
       "<IPython.core.display.Javascript object>"
      ]
     },
     "metadata": {},
     "output_type": "display_data"
    },
    {
     "data": {
      "text/markdown": [
       "<span style=\"color:#33cc33\">Correct</span>"
      ],
      "text/plain": [
       "Correct"
      ]
     },
     "metadata": {},
     "output_type": "display_data"
    }
   ],
   "source": [
    "# Fill in the line below: In the first five rows of the data, what is the\n",
    "# largest value for 'Perimeter (mean)'?\n",
    "max_perim = cancer_data.head()[\"Perimeter (mean)\"].max()\n",
    "\n",
    "# Fill in the line below: What is the value for 'Radius (mean)' for the tumor with Id 8510824?\n",
    "mean_radius = cancer_data.loc[8510824][\"Radius (mean)\"]\n",
    "\n",
    "# Check your answers\n",
    "step_2.check()"
   ]
  },
  {
   "cell_type": "code",
   "execution_count": 7,
   "id": "380b54fe",
   "metadata": {
    "execution": {
     "iopub.execute_input": "2022-10-14T03:18:26.060775Z",
     "iopub.status.busy": "2022-10-14T03:18:26.060407Z",
     "iopub.status.idle": "2022-10-14T03:18:26.064590Z",
     "shell.execute_reply": "2022-10-14T03:18:26.063554Z"
    },
    "papermill": {
     "duration": 0.016002,
     "end_time": "2022-10-14T03:18:26.066922",
     "exception": false,
     "start_time": "2022-10-14T03:18:26.050920",
     "status": "completed"
    },
    "tags": []
   },
   "outputs": [],
   "source": [
    "# Lines below will give you a hint or solution code\n",
    "#step_2.hint()\n",
    "#step_2.solution()"
   ]
  },
  {
   "cell_type": "markdown",
   "id": "2968be68",
   "metadata": {
    "papermill": {
     "duration": 0.007917,
     "end_time": "2022-10-14T03:18:26.083161",
     "exception": false,
     "start_time": "2022-10-14T03:18:26.075244",
     "status": "completed"
    },
    "tags": []
   },
   "source": [
    "## Step 3: Investigating differences"
   ]
  },
  {
   "cell_type": "markdown",
   "id": "0bd481df",
   "metadata": {
    "papermill": {
     "duration": 0.00766,
     "end_time": "2022-10-14T03:18:26.098805",
     "exception": false,
     "start_time": "2022-10-14T03:18:26.091145",
     "status": "completed"
    },
    "tags": []
   },
   "source": [
    "#### Part A\n",
    "\n",
    "Use the code cell below to create two histograms that show the distribution in values for `'Area (mean)'`, separately for both benign and malignant tumors.  (_To permit easy comparison, create a single figure containing both histograms in the code cell below._)"
   ]
  },
  {
   "cell_type": "code",
   "execution_count": 8,
   "id": "a4f1ba5b",
   "metadata": {
    "execution": {
     "iopub.execute_input": "2022-10-14T03:18:26.116585Z",
     "iopub.status.busy": "2022-10-14T03:18:26.116180Z",
     "iopub.status.idle": "2022-10-14T03:18:26.880815Z",
     "shell.execute_reply": "2022-10-14T03:18:26.879690Z"
    },
    "papermill": {
     "duration": 0.776513,
     "end_time": "2022-10-14T03:18:26.883335",
     "exception": false,
     "start_time": "2022-10-14T03:18:26.106822",
     "status": "completed"
    },
    "tags": []
   },
   "outputs": [
    {
     "data": {
      "application/javascript": [
       "parent.postMessage({\"jupyterEvent\": \"custom.exercise_interaction\", \"data\": {\"outcomeType\": 1, \"valueTowardsCompletion\": 0.5, \"interactionType\": 1, \"questionType\": 2, \"questionId\": \"3.1_PlotHist\", \"learnToolsVersion\": \"0.3.4\", \"failureMessage\": \"\", \"exceptionClass\": \"\", \"trace\": \"\"}}, \"*\")"
      ],
      "text/plain": [
       "<IPython.core.display.Javascript object>"
      ]
     },
     "metadata": {},
     "output_type": "display_data"
    },
    {
     "data": {
      "text/markdown": [
       "<span style=\"color:#33cc33\">Correct</span>"
      ],
      "text/plain": [
       "Correct"
      ]
     },
     "metadata": {},
     "output_type": "display_data"
    },
    {
     "data": {
      "image/png": "[encoded data removed]",
      "text/plain": [
       "<Figure size 1152x432 with 1 Axes>"
      ]
     },
     "metadata": {
      "needs_background": "light"
     },
     "output_type": "display_data"
    }
   ],
   "source": [
    "import numpy as np\n",
    "# Histograms for benign and maligant tumors\n",
    "plt.figure(figsize=(16,6))\n",
    "plt.title(\"Area (mean) histogram by Diagnosis\")\n",
    "\n",
    "ax = sns.histplot(data=cancer_data, x=\"Area (mean)\", hue=\"Diagnosis\")\n",
    "plt.xticks(np.arange(0, 2501, 50))\n",
    "ax.tick_params(axis=\"x\", rotation=90)\n",
    "\n",
    "# Check your answer\n",
    "step_3.a.check()\n",
    "\n",
    "plt.show()"
   ]
  },
  {
   "cell_type": "code",
   "execution_count": 9,
   "id": "3ddee0dc",
   "metadata": {
    "execution": {
     "iopub.execute_input": "2022-10-14T03:18:26.903427Z",
     "iopub.status.busy": "2022-10-14T03:18:26.902979Z",
     "iopub.status.idle": "2022-10-14T03:18:26.907163Z",
     "shell.execute_reply": "2022-10-14T03:18:26.906276Z"
    },
    "papermill": {
     "duration": 0.016828,
     "end_time": "2022-10-14T03:18:26.909482",
     "exception": false,
     "start_time": "2022-10-14T03:18:26.892654",
     "status": "completed"
    },
    "tags": []
   },
   "outputs": [],
   "source": [
    "# Lines below will give you a hint or solution code\n",
    "#step_3.a.hint()\n",
    "#step_3.a.solution_plot()"
   ]
  },
  {
   "cell_type": "markdown",
   "id": "33850a95",
   "metadata": {
    "papermill": {
     "duration": 0.008463,
     "end_time": "2022-10-14T03:18:26.926954",
     "exception": false,
     "start_time": "2022-10-14T03:18:26.918491",
     "status": "completed"
    },
    "tags": []
   },
   "source": [
    "#### Part B\n",
    "\n",
    "A researcher approaches you for help with identifying how the `'Area (mean)'` column can be used to understand the difference between benign and malignant tumors.  Based on the histograms above, \n",
    "- Do malignant tumors have higher or lower values for `'Area (mean)'` (relative to benign tumors), on average?\n",
    "- Which tumor type seems to have a larger range of potential values?"
   ]
  },
  {
   "cell_type": "markdown",
   "id": "d3630d3e",
   "metadata": {
    "papermill": {
     "duration": 0.008551,
     "end_time": "2022-10-14T03:18:26.944235",
     "exception": false,
     "start_time": "2022-10-14T03:18:26.935684",
     "status": "completed"
    },
    "tags": []
   },
   "source": [
    "B.1:\n",
    "\n",
    "*     Malignant Tumors have more Area (mean) than Benign Tumor in average\n",
    "*     If the Tumor has Area (mean) more than 1050, is a Malignant Tumor\n",
    "*     If the Tumor has Area (mean) less than 300, is a Benign Tumor\n",
    "*     If the Tumor has Area (mean) in range [310;1000], the Tumor can be Malignant or Benign\n",
    "\n",
    "B.2:\n",
    "\n",
    "* The Malignant Tumor has a larger range of potential values than the Begnign Tumor"
   ]
  },
  {
   "cell_type": "code",
   "execution_count": 10,
   "id": "563537e8",
   "metadata": {
    "execution": {
     "iopub.execute_input": "2022-10-14T03:18:26.962977Z",
     "iopub.status.busy": "2022-10-14T03:18:26.962580Z",
     "iopub.status.idle": "2022-10-14T03:18:26.967255Z",
     "shell.execute_reply": "2022-10-14T03:18:26.966149Z"
    },
    "papermill": {
     "duration": 0.016466,
     "end_time": "2022-10-14T03:18:26.969385",
     "exception": false,
     "start_time": "2022-10-14T03:18:26.952919",
     "status": "completed"
    },
    "tags": []
   },
   "outputs": [],
   "source": [
    "#step_3.b.hint()"
   ]
  },
  {
   "cell_type": "code",
   "execution_count": 11,
   "id": "2d6efdfd",
   "metadata": {
    "execution": {
     "iopub.execute_input": "2022-10-14T03:18:26.988529Z",
     "iopub.status.busy": "2022-10-14T03:18:26.987901Z",
     "iopub.status.idle": "2022-10-14T03:18:26.995024Z",
     "shell.execute_reply": "2022-10-14T03:18:26.994266Z"
    },
    "papermill": {
     "duration": 0.01859,
     "end_time": "2022-10-14T03:18:26.996928",
     "exception": false,
     "start_time": "2022-10-14T03:18:26.978338",
     "status": "completed"
    },
    "tags": []
   },
   "outputs": [
    {
     "data": {
      "application/javascript": [
       "parent.postMessage({\"jupyterEvent\": \"custom.exercise_interaction\", \"data\": {\"interactionType\": 3, \"questionType\": 4, \"questionId\": \"3.2_ThinkHist\", \"learnToolsVersion\": \"0.3.4\", \"valueTowardsCompletion\": 0.0, \"failureMessage\": \"\", \"exceptionClass\": \"\", \"trace\": \"\", \"outcomeType\": 4}}, \"*\")"
      ],
      "text/plain": [
       "<IPython.core.display.Javascript object>"
      ]
     },
     "metadata": {},
     "output_type": "display_data"
    },
    {
     "data": {
      "text/markdown": [
       "<span style=\"color:#33cc99\">Solution:</span> Malignant tumors have higher values for `'Area (mean)'`, on average. Malignant tumors have a larger range of potential values."
      ],
      "text/plain": [
       "Solution: Malignant tumors have higher values for `'Area (mean)'`, on average. Malignant tumors have a larger range of potential values."
      ]
     },
     "metadata": {},
     "output_type": "display_data"
    }
   ],
   "source": [
    "# Check your answer (Run this code cell to receive credit!)\n",
    "step_3.b.solution()"
   ]
  },
  {
   "cell_type": "markdown",
   "id": "bfeae9fa",
   "metadata": {
    "papermill": {
     "duration": 0.008866,
     "end_time": "2022-10-14T03:18:27.014851",
     "exception": false,
     "start_time": "2022-10-14T03:18:27.005985",
     "status": "completed"
    },
    "tags": []
   },
   "source": [
    "## Step 4: A very useful column\n",
    "\n",
    "#### Part A\n",
    "\n",
    "Use the code cell below to create two KDE plots that show the distribution in values for `'Radius (worst)'`, separately for both benign and malignant tumors.  (_To permit easy comparison, create a single figure containing both KDE plots in the code cell below._)"
   ]
  },
  {
   "cell_type": "code",
   "execution_count": 12,
   "id": "cacfb335",
   "metadata": {
    "execution": {
     "iopub.execute_input": "2022-10-14T03:18:27.035562Z",
     "iopub.status.busy": "2022-10-14T03:18:27.034380Z",
     "iopub.status.idle": "2022-10-14T03:18:27.500811Z",
     "shell.execute_reply": "2022-10-14T03:18:27.499681Z"
    },
    "papermill": {
     "duration": 0.479051,
     "end_time": "2022-10-14T03:18:27.503072",
     "exception": false,
     "start_time": "2022-10-14T03:18:27.024021",
     "status": "completed"
    },
    "tags": []
   },
   "outputs": [
    {
     "data": {
      "application/javascript": [
       "parent.postMessage({\"jupyterEvent\": \"custom.exercise_interaction\", \"data\": {\"outcomeType\": 1, \"valueTowardsCompletion\": 0.5, \"interactionType\": 1, \"questionType\": 2, \"questionId\": \"4.1_PlotThreshold\", \"learnToolsVersion\": \"0.3.4\", \"failureMessage\": \"\", \"exceptionClass\": \"\", \"trace\": \"\"}}, \"*\")"
      ],
      "text/plain": [
       "<IPython.core.display.Javascript object>"
      ]
     },
     "metadata": {},
     "output_type": "display_data"
    },
    {
     "data": {
      "text/markdown": [
       "<span style=\"color:#33cc33\">Correct</span>"
      ],
      "text/plain": [
       "Correct"
      ]
     },
     "metadata": {},
     "output_type": "display_data"
    },
    {
     "data": {
      "image/png": "[encoded data removed]",
      "text/plain": [
       "<Figure size 1152x432 with 1 Axes>"
      ]
     },
     "metadata": {
      "needs_background": "light"
     },
     "output_type": "display_data"
    }
   ],
   "source": [
    "# KDE plots for benign and malignant tumors\n",
    "plt.figure(figsize=(16,6))\n",
    "plt.title(\"Radius (worst) KDE by Diagnosis\")\n",
    "\n",
    "ax = sns.kdeplot(data=cancer_data, x=\"Radius (worst)\", hue=\"Diagnosis\", shade=True)\n",
    "\n",
    "plt.xticks(np.arange(0,42,1))\n",
    "plt.yticks(np.arange(0,0.14,0.01))\n",
    "\n",
    "# Check your answer\n",
    "step_4.a.check()\n",
    "\n",
    "plt.show()"
   ]
  },
  {
   "cell_type": "code",
   "execution_count": 13,
   "id": "45d02244",
   "metadata": {
    "execution": {
     "iopub.execute_input": "2022-10-14T03:18:27.525038Z",
     "iopub.status.busy": "2022-10-14T03:18:27.524426Z",
     "iopub.status.idle": "2022-10-14T03:18:27.528683Z",
     "shell.execute_reply": "2022-10-14T03:18:27.527898Z"
    },
    "papermill": {
     "duration": 0.017332,
     "end_time": "2022-10-14T03:18:27.530697",
     "exception": false,
     "start_time": "2022-10-14T03:18:27.513365",
     "status": "completed"
    },
    "tags": []
   },
   "outputs": [],
   "source": [
    "# Lines below will give you a hint or solution code\n",
    "#step_4.a.hint()\n",
    "#step_4.a.solution_plot()"
   ]
  },
  {
   "cell_type": "markdown",
   "id": "a50a8860",
   "metadata": {
    "papermill": {
     "duration": 0.009482,
     "end_time": "2022-10-14T03:18:27.549946",
     "exception": false,
     "start_time": "2022-10-14T03:18:27.540464",
     "status": "completed"
    },
    "tags": []
   },
   "source": [
    "#### Part B\n",
    "\n",
    "A hospital has recently started using an algorithm that can diagnose tumors with high accuracy.  Given a tumor with a value for `'Radius (worst)'` of 25, do you think the algorithm is more likely to classify the tumor as benign or malignant?"
   ]
  },
  {
   "cell_type": "markdown",
   "id": "2a7c3712",
   "metadata": {
    "papermill": {
     "duration": 0.009375,
     "end_time": "2022-10-14T03:18:27.568983",
     "exception": false,
     "start_time": "2022-10-14T03:18:27.559608",
     "status": "completed"
    },
    "tags": []
   },
   "source": [
    "As malignant. As we can see from the chart above, only malignant tumors has more than 22 Radius (worst)"
   ]
  },
  {
   "cell_type": "code",
   "execution_count": 14,
   "id": "82e8e645",
   "metadata": {
    "execution": {
     "iopub.execute_input": "2022-10-14T03:18:27.590387Z",
     "iopub.status.busy": "2022-10-14T03:18:27.589739Z",
     "iopub.status.idle": "2022-10-14T03:18:27.594291Z",
     "shell.execute_reply": "2022-10-14T03:18:27.593368Z"
    },
    "papermill": {
     "duration": 0.01782,
     "end_time": "2022-10-14T03:18:27.596513",
     "exception": false,
     "start_time": "2022-10-14T03:18:27.578693",
     "status": "completed"
    },
    "tags": []
   },
   "outputs": [],
   "source": [
    "#step_4.b.hint()"
   ]
  },
  {
   "cell_type": "code",
   "execution_count": 15,
   "id": "090808bc",
   "metadata": {
    "execution": {
     "iopub.execute_input": "2022-10-14T03:18:27.617725Z",
     "iopub.status.busy": "2022-10-14T03:18:27.617348Z",
     "iopub.status.idle": "2022-10-14T03:18:27.625630Z",
     "shell.execute_reply": "2022-10-14T03:18:27.624641Z"
    },
    "papermill": {
     "duration": 0.021412,
     "end_time": "2022-10-14T03:18:27.627717",
     "exception": false,
     "start_time": "2022-10-14T03:18:27.606305",
     "status": "completed"
    },
    "tags": []
   },
   "outputs": [
    {
     "data": {
      "application/javascript": [
       "parent.postMessage({\"jupyterEvent\": \"custom.exercise_interaction\", \"data\": {\"interactionType\": 3, \"questionType\": 4, \"questionId\": \"4.2_ThinkThreshold\", \"learnToolsVersion\": \"0.3.4\", \"valueTowardsCompletion\": 0.0, \"failureMessage\": \"\", \"exceptionClass\": \"\", \"trace\": \"\", \"outcomeType\": 4}}, \"*\")"
      ],
      "text/plain": [
       "<IPython.core.display.Javascript object>"
      ]
     },
     "metadata": {},
     "output_type": "display_data"
    },
    {
     "data": {
      "text/markdown": [
       "<span style=\"color:#33cc99\">Solution:</span> The algorithm is more likely to classify the tumor as malignant. This is because the curve for malignant tumors is much higher than the curve for benign tumors around a value of 25 -- and an algorithm that gets high accuracy is likely to make decisions based on this pattern in the data."
      ],
      "text/plain": [
       "Solution: The algorithm is more likely to classify the tumor as malignant. This is because the curve for malignant tumors is much higher than the curve for benign tumors around a value of 25 -- and an algorithm that gets high accuracy is likely to make decisions based on this pattern in the data."
      ]
     },
     "metadata": {},
     "output_type": "display_data"
    }
   ],
   "source": [
    "# Check your answer (Run this code cell to receive credit!)\n",
    "step_4.b.solution()"
   ]
  },
  {
   "cell_type": "markdown",
   "id": "f020b784",
   "metadata": {
    "papermill": {
     "duration": 0.010065,
     "end_time": "2022-10-14T03:18:27.647942",
     "exception": false,
     "start_time": "2022-10-14T03:18:27.637877",
     "status": "completed"
    },
    "tags": []
   },
   "source": [
    "## Keep going\n",
    "\n",
    "Review all that you've learned and explore how to further customize your plots in the **[next tutorial](https://www.kaggle.com/alexisbcook/choosing-plot-types-and-custom-styles)**!"
   ]
  },
  {
   "cell_type": "markdown",
   "id": "ece315ea",
   "metadata": {
    "papermill": {
     "duration": 0.00977,
     "end_time": "2022-10-14T03:18:27.667764",
     "exception": false,
     "start_time": "2022-10-14T03:18:27.657994",
     "status": "completed"
    },
    "tags": []
   },
   "source": [
    "---\n",
    "\n",
    "\n",
    "\n",
    "\n",
    "*Have questions or comments? Visit the [course discussion forum](https://www.kaggle.com/learn/data-visualization/discussion) to chat with other learners.*"
   ]
  }
 ],
 "metadata": {
  "kernelspec": {
   "display_name": "Python 3",
   "language": "python",
   "name": "python3"
  },
  "language_info": {
   "codemirror_mode": {
    "name": "ipython",
    "version": 3
   },
   "file_extension": ".py",
   "mimetype": "text/x-python",
   "name": "python",
   "nbconvert_exporter": "python",
   "pygments_lexer": "ipython3",
   "version": "3.7.12"
  },
  "papermill": {
   "default_parameters": {},
   "duration": 32.030595,
   "end_time": "2022-10-14T03:18:28.401050",
   "environment_variables": {},
   "exception": null,
   "input_path": "__notebook__.ipynb",
   "output_path": "__notebook__.ipynb",
   "parameters": {},
   "start_time": "2022-10-14T03:17:56.370455",
   "version": "2.3.4"
  }
 },
 "nbformat": 4,
 "nbformat_minor": 5
}
