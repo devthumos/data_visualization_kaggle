{
 "cells": [
  {
   "cell_type": "markdown",
   "id": "11b2615a",
   "metadata": {
    "papermill": {
     "duration": 0.011422,
     "end_time": "2022-10-13T06:05:11.481766",
     "exception": false,
     "start_time": "2022-10-13T06:05:11.470344",
     "status": "completed"
    },
    "tags": []
   },
   "source": [
    "**This notebook is an exercise in the [Data Visualization](https://www.kaggle.com/learn/data-visualization) course.  You can reference the tutorial at [this link](https://www.kaggle.com/alexisbcook/scatter-plots).**\n",
    "\n",
    "---\n"
   ]
  },
  {
   "cell_type": "markdown",
   "id": "158dfa23",
   "metadata": {
    "papermill": {
     "duration": 0.01021,
     "end_time": "2022-10-13T06:05:11.502794",
     "exception": false,
     "start_time": "2022-10-13T06:05:11.492584",
     "status": "completed"
    },
    "tags": []
   },
   "source": [
    "In this exercise, you will use your new knowledge to propose a solution to a real-world scenario.  To succeed, you will need to import data into Python, answer questions using the data, and generate **scatter plots** to understand patterns in the data.\n",
    "\n",
    "## Scenario\n",
    "\n",
    "You work for a major candy producer, and your goal is to write a report that your company can use to guide the design of its next product.  Soon after starting your research, you stumble across this [very interesting dataset](https://fivethirtyeight.com/features/the-ultimate-halloween-candy-power-ranking/) containing results from a fun survey to crowdsource favorite candies.\n",
    "\n",
    "## Setup\n",
    "\n",
    "Run the next cell to import and configure the Python libraries that you need to complete the exercise."
   ]
  },
  {
   "cell_type": "code",
   "execution_count": 1,
   "id": "89429a30",
   "metadata": {
    "execution": {
     "iopub.execute_input": "2022-10-13T06:05:11.524920Z",
     "iopub.status.busy": "2022-10-13T06:05:11.524428Z",
     "iopub.status.idle": "2022-10-13T06:05:12.657326Z",
     "shell.execute_reply": "2022-10-13T06:05:12.655774Z"
    },
    "papermill": {
     "duration": 1.147887,
     "end_time": "2022-10-13T06:05:12.660653",
     "exception": false,
     "start_time": "2022-10-13T06:05:11.512766",
     "status": "completed"
    },
    "tags": []
   },
   "outputs": [
    {
     "name": "stdout",
     "output_type": "stream",
     "text": [
      "Setup Complete\n"
     ]
    }
   ],
   "source": [
    "import pandas as pd\n",
    "pd.plotting.register_matplotlib_converters()\n",
    "import matplotlib.pyplot as plt\n",
    "%matplotlib inline\n",
    "import seaborn as sns\n",
    "print(\"Setup Complete\")"
   ]
  },
  {
   "cell_type": "markdown",
   "id": "08de85d4",
   "metadata": {
    "papermill": {
     "duration": 0.011221,
     "end_time": "2022-10-13T06:05:12.685861",
     "exception": false,
     "start_time": "2022-10-13T06:05:12.674640",
     "status": "completed"
    },
    "tags": []
   },
   "source": [
    "The questions below will give you feedback on your work. Run the following cell to set up our feedback system."
   ]
  },
  {
   "cell_type": "code",
   "execution_count": 2,
   "id": "1570e8f5",
   "metadata": {
    "execution": {
     "iopub.execute_input": "2022-10-13T06:05:12.709252Z",
     "iopub.status.busy": "2022-10-13T06:05:12.708456Z",
     "iopub.status.idle": "2022-10-13T06:05:12.803840Z",
     "shell.execute_reply": "2022-10-13T06:05:12.802709Z"
    },
    "papermill": {
     "duration": 0.110941,
     "end_time": "2022-10-13T06:05:12.807448",
     "exception": false,
     "start_time": "2022-10-13T06:05:12.696507",
     "status": "completed"
    },
    "tags": []
   },
   "outputs": [
    {
     "name": "stdout",
     "output_type": "stream",
     "text": [
      "Setup Complete\n"
     ]
    }
   ],
   "source": [
    "# Set up code checking\n",
    "import os\n",
    "if not os.path.exists(\"../input/candy.csv\"):\n",
    "    os.symlink(\"../input/data-for-datavis/candy.csv\", \"../input/candy.csv\") \n",
    "from learntools.core import binder\n",
    "binder.bind(globals())\n",
    "from learntools.data_viz_to_coder.ex4 import *\n",
    "print(\"Setup Complete\")"
   ]
  },
  {
   "cell_type": "markdown",
   "id": "0fbeacb3",
   "metadata": {
    "papermill": {
     "duration": 0.011706,
     "end_time": "2022-10-13T06:05:12.834798",
     "exception": false,
     "start_time": "2022-10-13T06:05:12.823092",
     "status": "completed"
    },
    "tags": []
   },
   "source": [
    "## Step 1: Load the Data\n",
    "\n",
    "Read the candy data file into `candy_data`.  Use the `\"id\"` column to label the rows."
   ]
  },
  {
   "cell_type": "code",
   "execution_count": 3,
   "id": "4645b6e9",
   "metadata": {
    "execution": {
     "iopub.execute_input": "2022-10-13T06:05:12.858651Z",
     "iopub.status.busy": "2022-10-13T06:05:12.857886Z",
     "iopub.status.idle": "2022-10-13T06:05:12.878875Z",
     "shell.execute_reply": "2022-10-13T06:05:12.877718Z"
    },
    "papermill": {
     "duration": 0.036807,
     "end_time": "2022-10-13T06:05:12.882089",
     "exception": false,
     "start_time": "2022-10-13T06:05:12.845282",
     "status": "completed"
    },
    "tags": []
   },
   "outputs": [
    {
     "data": {
      "application/javascript": [
       "parent.postMessage({\"jupyterEvent\": \"custom.exercise_interaction\", \"data\": {\"outcomeType\": 1, \"valueTowardsCompletion\": 0.3333333333333333, \"interactionType\": 1, \"questionType\": 1, \"questionId\": \"1_LoadData\", \"learnToolsVersion\": \"0.3.4\", \"failureMessage\": \"\", \"exceptionClass\": \"\", \"trace\": \"\"}}, \"*\")"
      ],
      "text/plain": [
       "<IPython.core.display.Javascript object>"
      ]
     },
     "metadata": {},
     "output_type": "display_data"
    },
    {
     "data": {
      "text/markdown": [
       "<span style=\"color:#33cc33\">Correct</span>"
      ],
      "text/plain": [
       "Correct"
      ]
     },
     "metadata": {},
     "output_type": "display_data"
    }
   ],
   "source": [
    "# Path of the file to read\n",
    "candy_filepath = \"../input/candy.csv\"\n",
    "\n",
    "# Fill in the line below to read the file into a variable candy_data\n",
    "candy_data = pd.read_csv(candy_filepath, delimiter=\",\", decimal=\".\", index_col=\"id\")\n",
    "\n",
    "# Run the line below with no changes to check that you've loaded the data correctly\n",
    "step_1.check()"
   ]
  },
  {
   "cell_type": "code",
   "execution_count": 4,
   "id": "7f3c99fe",
   "metadata": {
    "execution": {
     "iopub.execute_input": "2022-10-13T06:05:12.906662Z",
     "iopub.status.busy": "2022-10-13T06:05:12.905665Z",
     "iopub.status.idle": "2022-10-13T06:05:12.910797Z",
     "shell.execute_reply": "2022-10-13T06:05:12.909737Z"
    },
    "papermill": {
     "duration": 0.020231,
     "end_time": "2022-10-13T06:05:12.913218",
     "exception": false,
     "start_time": "2022-10-13T06:05:12.892987",
     "status": "completed"
    },
    "tags": []
   },
   "outputs": [],
   "source": [
    "# Lines below will give you a hint or solution code\n",
    "#step_1.hint()\n",
    "#step_1.solution()"
   ]
  },
  {
   "cell_type": "markdown",
   "id": "96485559",
   "metadata": {
    "papermill": {
     "duration": 0.010477,
     "end_time": "2022-10-13T06:05:12.934569",
     "exception": false,
     "start_time": "2022-10-13T06:05:12.924092",
     "status": "completed"
    },
    "tags": []
   },
   "source": [
    "## Step 2: Review the data\n",
    "\n",
    "Use a Python command to print the first five rows of the data."
   ]
  },
  {
   "cell_type": "code",
   "execution_count": 5,
   "id": "9af6abf1",
   "metadata": {
    "execution": {
     "iopub.execute_input": "2022-10-13T06:05:12.958676Z",
     "iopub.status.busy": "2022-10-13T06:05:12.957705Z",
     "iopub.status.idle": "2022-10-13T06:05:12.986179Z",
     "shell.execute_reply": "2022-10-13T06:05:12.985028Z"
    },
    "papermill": {
     "duration": 0.043425,
     "end_time": "2022-10-13T06:05:12.988702",
     "exception": false,
     "start_time": "2022-10-13T06:05:12.945277",
     "status": "completed"
    },
    "tags": []
   },
   "outputs": [
    {
     "data": {
      "text/html": [
       "<div>\n",
       "<style scoped>\n",
       "    .dataframe tbody tr th:only-of-type {\n",
       "        vertical-align: middle;\n",
       "    }\n",
       "\n",
       "    .dataframe tbody tr th {\n",
       "        vertical-align: top;\n",
       "    }\n",
       "\n",
       "    .dataframe thead th {\n",
       "        text-align: right;\n",
       "    }\n",
       "</style>\n",
       "<table border=\"1\" class=\"dataframe\">\n",
       "  <thead>\n",
       "    <tr style=\"text-align: right;\">\n",
       "      <th></th>\n",
       "      <th>competitorname</th>\n",
       "      <th>chocolate</th>\n",
       "      <th>fruity</th>\n",
       "      <th>caramel</th>\n",
       "      <th>peanutyalmondy</th>\n",
       "      <th>nougat</th>\n",
       "      <th>crispedricewafer</th>\n",
       "      <th>hard</th>\n",
       "      <th>bar</th>\n",
       "      <th>pluribus</th>\n",
       "      <th>sugarpercent</th>\n",
       "      <th>pricepercent</th>\n",
       "      <th>winpercent</th>\n",
       "    </tr>\n",
       "    <tr>\n",
       "      <th>id</th>\n",
       "      <th></th>\n",
       "      <th></th>\n",
       "      <th></th>\n",
       "      <th></th>\n",
       "      <th></th>\n",
       "      <th></th>\n",
       "      <th></th>\n",
       "      <th></th>\n",
       "      <th></th>\n",
       "      <th></th>\n",
       "      <th></th>\n",
       "      <th></th>\n",
       "      <th></th>\n",
       "    </tr>\n",
       "  </thead>\n",
       "  <tbody>\n",
       "    <tr>\n",
       "      <th>0</th>\n",
       "      <td>100 Grand</td>\n",
       "      <td>Yes</td>\n",
       "      <td>No</td>\n",
       "      <td>Yes</td>\n",
       "      <td>No</td>\n",
       "      <td>No</td>\n",
       "      <td>Yes</td>\n",
       "      <td>No</td>\n",
       "      <td>Yes</td>\n",
       "      <td>No</td>\n",
       "      <td>0.732</td>\n",
       "      <td>0.860</td>\n",
       "      <td>66.971725</td>\n",
       "    </tr>\n",
       "    <tr>\n",
       "      <th>1</th>\n",
       "      <td>3 Musketeers</td>\n",
       "      <td>Yes</td>\n",
       "      <td>No</td>\n",
       "      <td>No</td>\n",
       "      <td>No</td>\n",
       "      <td>Yes</td>\n",
       "      <td>No</td>\n",
       "      <td>No</td>\n",
       "      <td>Yes</td>\n",
       "      <td>No</td>\n",
       "      <td>0.604</td>\n",
       "      <td>0.511</td>\n",
       "      <td>67.602936</td>\n",
       "    </tr>\n",
       "    <tr>\n",
       "      <th>2</th>\n",
       "      <td>Air Heads</td>\n",
       "      <td>No</td>\n",
       "      <td>Yes</td>\n",
       "      <td>No</td>\n",
       "      <td>No</td>\n",
       "      <td>No</td>\n",
       "      <td>No</td>\n",
       "      <td>No</td>\n",
       "      <td>No</td>\n",
       "      <td>No</td>\n",
       "      <td>0.906</td>\n",
       "      <td>0.511</td>\n",
       "      <td>52.341465</td>\n",
       "    </tr>\n",
       "    <tr>\n",
       "      <th>3</th>\n",
       "      <td>Almond Joy</td>\n",
       "      <td>Yes</td>\n",
       "      <td>No</td>\n",
       "      <td>No</td>\n",
       "      <td>Yes</td>\n",
       "      <td>No</td>\n",
       "      <td>No</td>\n",
       "      <td>No</td>\n",
       "      <td>Yes</td>\n",
       "      <td>No</td>\n",
       "      <td>0.465</td>\n",
       "      <td>0.767</td>\n",
       "      <td>50.347546</td>\n",
       "    </tr>\n",
       "    <tr>\n",
       "      <th>4</th>\n",
       "      <td>Baby Ruth</td>\n",
       "      <td>Yes</td>\n",
       "      <td>No</td>\n",
       "      <td>Yes</td>\n",
       "      <td>Yes</td>\n",
       "      <td>Yes</td>\n",
       "      <td>No</td>\n",
       "      <td>No</td>\n",
       "      <td>Yes</td>\n",
       "      <td>No</td>\n",
       "      <td>0.604</td>\n",
       "      <td>0.767</td>\n",
       "      <td>56.914547</td>\n",
       "    </tr>\n",
       "  </tbody>\n",
       "</table>\n",
       "</div>"
      ],
      "text/plain": [
       "   competitorname chocolate fruity caramel peanutyalmondy nougat  \\\n",
       "id                                                                 \n",
       "0       100 Grand       Yes     No     Yes             No     No   \n",
       "1    3 Musketeers       Yes     No      No             No    Yes   \n",
       "2       Air Heads        No    Yes      No             No     No   \n",
       "3      Almond Joy       Yes     No      No            Yes     No   \n",
       "4       Baby Ruth       Yes     No     Yes            Yes    Yes   \n",
       "\n",
       "   crispedricewafer hard  bar pluribus  sugarpercent  pricepercent  winpercent  \n",
       "id                                                                              \n",
       "0               Yes   No  Yes       No         0.732         0.860   66.971725  \n",
       "1                No   No  Yes       No         0.604         0.511   67.602936  \n",
       "2                No   No   No       No         0.906         0.511   52.341465  \n",
       "3                No   No  Yes       No         0.465         0.767   50.347546  \n",
       "4                No   No  Yes       No         0.604         0.767   56.914547  "
      ]
     },
     "execution_count": 5,
     "metadata": {},
     "output_type": "execute_result"
    }
   ],
   "source": [
    "# Print the first five rows of the data\n",
    "candy_data.head() # Your code here"
   ]
  },
  {
   "cell_type": "markdown",
   "id": "d7d561ae",
   "metadata": {
    "papermill": {
     "duration": 0.011257,
     "end_time": "2022-10-13T06:05:13.011147",
     "exception": false,
     "start_time": "2022-10-13T06:05:12.999890",
     "status": "completed"
    },
    "tags": []
   },
   "source": [
    "The dataset contains 83 rows, where each corresponds to a different candy bar.  There are 13 columns:\n",
    "- `'competitorname'` contains the name of the candy bar. \n",
    "- the next **9** columns (from `'chocolate'` to `'pluribus'`) describe the candy.  For instance, rows with chocolate candies have `\"Yes\"` in the `'chocolate'` column (and candies without chocolate have `\"No\"` in the same column).\n",
    "- `'sugarpercent'` provides some indication of the amount of sugar, where higher values signify higher sugar content.\n",
    "- `'pricepercent'` shows the price per unit, relative to the other candies in the dataset.\n",
    "- `'winpercent'` is calculated from the survey results; higher values indicate that the candy was more popular with survey respondents.\n",
    "\n",
    "Use the first five rows of the data to answer the questions below."
   ]
  },
  {
   "cell_type": "code",
   "execution_count": 6,
   "id": "778eef48",
   "metadata": {
    "execution": {
     "iopub.execute_input": "2022-10-13T06:05:13.036068Z",
     "iopub.status.busy": "2022-10-13T06:05:13.035111Z",
     "iopub.status.idle": "2022-10-13T06:05:13.045525Z",
     "shell.execute_reply": "2022-10-13T06:05:13.044469Z"
    },
    "papermill": {
     "duration": 0.025802,
     "end_time": "2022-10-13T06:05:13.048110",
     "exception": false,
     "start_time": "2022-10-13T06:05:13.022308",
     "status": "completed"
    },
    "tags": []
   },
   "outputs": [
    {
     "data": {
      "application/javascript": [
       "parent.postMessage({\"jupyterEvent\": \"custom.exercise_interaction\", \"data\": {\"outcomeType\": 1, \"valueTowardsCompletion\": 0.3333333333333333, \"interactionType\": 1, \"questionType\": 1, \"questionId\": \"2_ReviewData\", \"learnToolsVersion\": \"0.3.4\", \"failureMessage\": \"\", \"exceptionClass\": \"\", \"trace\": \"\"}}, \"*\")"
      ],
      "text/plain": [
       "<IPython.core.display.Javascript object>"
      ]
     },
     "metadata": {},
     "output_type": "display_data"
    },
    {
     "data": {
      "text/markdown": [
       "<span style=\"color:#33cc33\">Correct</span>"
      ],
      "text/plain": [
       "Correct"
      ]
     },
     "metadata": {},
     "output_type": "display_data"
    }
   ],
   "source": [
    "# Fill in the line below: Which candy was more popular with survey respondents:\n",
    "# '3 Musketeers' or 'Almond Joy'?  (Please enclose your answer in single quotes.)\n",
    "more_popular = \"3 Musketeers\"\n",
    "\n",
    "# Fill in the line below: Which candy has higher sugar content: 'Air Heads'\n",
    "# or 'Baby Ruth'? (Please enclose your answer in single quotes.)\n",
    "more_sugar = \"Air Heads\"\n",
    "\n",
    "# Check your answers\n",
    "step_2.check()"
   ]
  },
  {
   "cell_type": "code",
   "execution_count": 7,
   "id": "d133c541",
   "metadata": {
    "execution": {
     "iopub.execute_input": "2022-10-13T06:05:13.073629Z",
     "iopub.status.busy": "2022-10-13T06:05:13.073220Z",
     "iopub.status.idle": "2022-10-13T06:05:13.078459Z",
     "shell.execute_reply": "2022-10-13T06:05:13.077178Z"
    },
    "papermill": {
     "duration": 0.021193,
     "end_time": "2022-10-13T06:05:13.081084",
     "exception": false,
     "start_time": "2022-10-13T06:05:13.059891",
     "status": "completed"
    },
    "tags": []
   },
   "outputs": [],
   "source": [
    "# Lines below will give you a hint or solution code\n",
    "#step_2.hint()\n",
    "#step_2.solution()"
   ]
  },
  {
   "cell_type": "markdown",
   "id": "14a41b7e",
   "metadata": {
    "papermill": {
     "duration": 0.011683,
     "end_time": "2022-10-13T06:05:13.105202",
     "exception": false,
     "start_time": "2022-10-13T06:05:13.093519",
     "status": "completed"
    },
    "tags": []
   },
   "source": [
    "## Step 3: The role of sugar\n",
    "\n",
    "Do people tend to prefer candies with higher sugar content?  \n",
    "\n",
    "#### Part A\n",
    "\n",
    "Create a scatter plot that shows the relationship between `'sugarpercent'` (on the horizontal x-axis) and `'winpercent'` (on the vertical y-axis).  _Don't add a regression line just yet -- you'll do that in the next step!_"
   ]
  },
  {
   "cell_type": "code",
   "execution_count": 8,
   "id": "cb906969",
   "metadata": {
    "execution": {
     "iopub.execute_input": "2022-10-13T06:05:13.130330Z",
     "iopub.status.busy": "2022-10-13T06:05:13.129786Z",
     "iopub.status.idle": "2022-10-13T06:05:13.431911Z",
     "shell.execute_reply": "2022-10-13T06:05:13.430936Z"
    },
    "papermill": {
     "duration": 0.318016,
     "end_time": "2022-10-13T06:05:13.434691",
     "exception": false,
     "start_time": "2022-10-13T06:05:13.116675",
     "status": "completed"
    },
    "tags": []
   },
   "outputs": [
    {
     "data": {
      "application/javascript": [
       "parent.postMessage({\"jupyterEvent\": \"custom.exercise_interaction\", \"data\": {\"outcomeType\": 1, \"valueTowardsCompletion\": 0.3333333333333333, \"interactionType\": 1, \"questionType\": 2, \"questionId\": \"3.1_PlotBlueScatter\", \"learnToolsVersion\": \"0.3.4\", \"failureMessage\": \"\", \"exceptionClass\": \"\", \"trace\": \"\"}}, \"*\")"
      ],
      "text/plain": [
       "<IPython.core.display.Javascript object>"
      ]
     },
     "metadata": {},
     "output_type": "display_data"
    },
    {
     "data": {
      "text/markdown": [
       "<span style=\"color:#33cc33\">Correct</span>"
      ],
      "text/plain": [
       "Correct"
      ]
     },
     "metadata": {},
     "output_type": "display_data"
    },
    {
     "data": {
      "image/png": "[encoded data removed]",
      "text/plain": [
       "<Figure size 1152x432 with 1 Axes>"
      ]
     },
     "metadata": {
      "needs_background": "light"
     },
     "output_type": "display_data"
    }
   ],
   "source": [
    "# Scatter plot showing the relationship between 'sugarpercent' and 'winpercent'\n",
    "plt.figure(figsize=(16,6)) # Your code here\n",
    "plt.title(\"[Scatter Plot] Sugarpercent x Winpercent\")\n",
    "\n",
    "ax = sns.scatterplot(x=candy_data[\"sugarpercent\"], y=candy_data[\"winpercent\"])\n",
    "plt.xlabel(\"Percentage of Sugar (%)\")\n",
    "plt.ylabel(\"Percentage of Popularity\")\n",
    "\n",
    "# Check your answer\n",
    "step_3.a.check()\n",
    "\n",
    "plt.show()"
   ]
  },
  {
   "cell_type": "code",
   "execution_count": 9,
   "id": "a7e02b20",
   "metadata": {
    "execution": {
     "iopub.execute_input": "2022-10-13T06:05:13.461200Z",
     "iopub.status.busy": "2022-10-13T06:05:13.460085Z",
     "iopub.status.idle": "2022-10-13T06:05:13.464893Z",
     "shell.execute_reply": "2022-10-13T06:05:13.463740Z"
    },
    "papermill": {
     "duration": 0.020262,
     "end_time": "2022-10-13T06:05:13.467380",
     "exception": false,
     "start_time": "2022-10-13T06:05:13.447118",
     "status": "completed"
    },
    "tags": []
   },
   "outputs": [],
   "source": [
    "# Lines below will give you a hint or solution code\n",
    "#step_3.a.hint()\n",
    "#step_3.a.solution_plot()"
   ]
  },
  {
   "cell_type": "markdown",
   "id": "b2f06ec8",
   "metadata": {
    "papermill": {
     "duration": 0.012142,
     "end_time": "2022-10-13T06:05:13.491503",
     "exception": false,
     "start_time": "2022-10-13T06:05:13.479361",
     "status": "completed"
    },
    "tags": []
   },
   "source": [
    "#### Part B\n",
    "\n",
    "Does the scatter plot show a **strong** correlation between the two variables?  If so, are candies with more sugar relatively more or less popular with the survey respondents?"
   ]
  },
  {
   "cell_type": "markdown",
   "id": "fb1370af",
   "metadata": {
    "papermill": {
     "duration": 0.011912,
     "end_time": "2022-10-13T06:05:13.515422",
     "exception": false,
     "start_time": "2022-10-13T06:05:13.503510",
     "status": "completed"
    },
    "tags": []
   },
   "source": [
    "We can say that there are some correlation between the two variables, but not a strong one. As we can see in the scatter plot chart above"
   ]
  },
  {
   "cell_type": "code",
   "execution_count": 10,
   "id": "ded17548",
   "metadata": {
    "execution": {
     "iopub.execute_input": "2022-10-13T06:05:13.540574Z",
     "iopub.status.busy": "2022-10-13T06:05:13.540147Z",
     "iopub.status.idle": "2022-10-13T06:05:13.545338Z",
     "shell.execute_reply": "2022-10-13T06:05:13.544114Z"
    },
    "papermill": {
     "duration": 0.020606,
     "end_time": "2022-10-13T06:05:13.547603",
     "exception": false,
     "start_time": "2022-10-13T06:05:13.526997",
     "status": "completed"
    },
    "tags": []
   },
   "outputs": [],
   "source": [
    "#step_3.b.hint()"
   ]
  },
  {
   "cell_type": "code",
   "execution_count": 11,
   "id": "d862e022",
   "metadata": {
    "execution": {
     "iopub.execute_input": "2022-10-13T06:05:13.573685Z",
     "iopub.status.busy": "2022-10-13T06:05:13.572465Z",
     "iopub.status.idle": "2022-10-13T06:05:13.581999Z",
     "shell.execute_reply": "2022-10-13T06:05:13.580624Z"
    },
    "papermill": {
     "duration": 0.024996,
     "end_time": "2022-10-13T06:05:13.584318",
     "exception": false,
     "start_time": "2022-10-13T06:05:13.559322",
     "status": "completed"
    },
    "tags": []
   },
   "outputs": [
    {
     "data": {
      "application/javascript": [
       "parent.postMessage({\"jupyterEvent\": \"custom.exercise_interaction\", \"data\": {\"interactionType\": 3, \"questionType\": 4, \"questionId\": \"3.2_ThinkBlueScatter\", \"learnToolsVersion\": \"0.3.4\", \"valueTowardsCompletion\": 0.0, \"failureMessage\": \"\", \"exceptionClass\": \"\", \"trace\": \"\", \"outcomeType\": 4}}, \"*\")"
      ],
      "text/plain": [
       "<IPython.core.display.Javascript object>"
      ]
     },
     "metadata": {},
     "output_type": "display_data"
    },
    {
     "data": {
      "text/markdown": [
       "<span style=\"color:#33cc99\">Solution:</span> The scatter plot does not show a strong correlation between the two variables. Since there is no clear relationship between the two variables, this tells us that sugar content does not play a strong role in candy popularity."
      ],
      "text/plain": [
       "Solution: The scatter plot does not show a strong correlation between the two variables. Since there is no clear relationship between the two variables, this tells us that sugar content does not play a strong role in candy popularity."
      ]
     },
     "metadata": {},
     "output_type": "display_data"
    }
   ],
   "source": [
    "# Check your answer (Run this code cell to receive credit!)\n",
    "step_3.b.solution()"
   ]
  },
  {
   "cell_type": "markdown",
   "id": "e508cd58",
   "metadata": {
    "papermill": {
     "duration": 0.011391,
     "end_time": "2022-10-13T06:05:13.607571",
     "exception": false,
     "start_time": "2022-10-13T06:05:13.596180",
     "status": "completed"
    },
    "tags": []
   },
   "source": [
    "## Step 4: Take a closer look\n",
    "\n",
    "#### Part A\n",
    "\n",
    "Create the same scatter plot you created in **Step 3**, but now with a regression line!"
   ]
  },
  {
   "cell_type": "code",
   "execution_count": 12,
   "id": "0f16467e",
   "metadata": {
    "execution": {
     "iopub.execute_input": "2022-10-13T06:05:13.633909Z",
     "iopub.status.busy": "2022-10-13T06:05:13.633176Z",
     "iopub.status.idle": "2022-10-13T06:05:13.926939Z",
     "shell.execute_reply": "2022-10-13T06:05:13.926023Z"
    },
    "papermill": {
     "duration": 0.309531,
     "end_time": "2022-10-13T06:05:13.929276",
     "exception": false,
     "start_time": "2022-10-13T06:05:13.619745",
     "status": "completed"
    },
    "tags": []
   },
   "outputs": [
    {
     "data": {
      "application/javascript": [
       "parent.postMessage({\"jupyterEvent\": \"custom.exercise_interaction\", \"data\": {\"outcomeType\": 1, \"valueTowardsCompletion\": 0.3333333333333333, \"interactionType\": 1, \"questionType\": 2, \"questionId\": \"4.1_PlotBlueReg\", \"learnToolsVersion\": \"0.3.4\", \"failureMessage\": \"\", \"exceptionClass\": \"\", \"trace\": \"\"}}, \"*\")"
      ],
      "text/plain": [
       "<IPython.core.display.Javascript object>"
      ]
     },
     "metadata": {},
     "output_type": "display_data"
    },
    {
     "data": {
      "text/markdown": [
       "<span style=\"color:#33cc33\">Correct</span>"
      ],
      "text/plain": [
       "Correct"
      ]
     },
     "metadata": {},
     "output_type": "display_data"
    },
    {
     "data": {
      "image/png": "[encoded data removed]",
      "text/plain": [
       "<Figure size 1152x432 with 1 Axes>"
      ]
     },
     "metadata": {
      "needs_background": "light"
     },
     "output_type": "display_data"
    }
   ],
   "source": [
    "# Scatter plot w/ regression line showing the relationship between 'sugarpercent' and 'winpercent'\n",
    "plt.figure(figsize=(16,6)) # Your code here\n",
    "plt.title(\"Percentage of Sugar x Percentage of Popularity\")\n",
    "\n",
    "ax_scat = sns.scatterplot(x=candy_data[\"sugarpercent\"], y=candy_data[\"winpercent\"])\n",
    "ax_reg = sns.regplot(x=candy_data[\"sugarpercent\"], y=candy_data[\"winpercent\"], scatter=False, color=\"red\")\n",
    "\n",
    "plt.xlabel(\"Percentage of Sugar (%)\")\n",
    "plt.ylabel(\"Percentage of Popularity (%)\")\n",
    "\n",
    "# Check your answer\n",
    "step_4.a.check()\n",
    "\n",
    "plt.show()"
   ]
  },
  {
   "cell_type": "markdown",
   "id": "3e53d70d",
   "metadata": {
    "papermill": {
     "duration": 0.012006,
     "end_time": "2022-10-13T06:05:13.953820",
     "exception": false,
     "start_time": "2022-10-13T06:05:13.941814",
     "status": "completed"
    },
    "tags": []
   },
   "source": [
    "As we can see in the chart above, there are some posive correlation between percentage of sugar and percetange of popularity"
   ]
  },
  {
   "cell_type": "code",
   "execution_count": 13,
   "id": "dcdac696",
   "metadata": {
    "execution": {
     "iopub.execute_input": "2022-10-13T06:05:13.980812Z",
     "iopub.status.busy": "2022-10-13T06:05:13.980086Z",
     "iopub.status.idle": "2022-10-13T06:05:13.984175Z",
     "shell.execute_reply": "2022-10-13T06:05:13.983231Z"
    },
    "papermill": {
     "duration": 0.020447,
     "end_time": "2022-10-13T06:05:13.986687",
     "exception": false,
     "start_time": "2022-10-13T06:05:13.966240",
     "status": "completed"
    },
    "tags": []
   },
   "outputs": [],
   "source": [
    "# Lines below will give you a hint or solution code\n",
    "#step_4.a.hint()\n",
    "#step_4.a.solution_plot()"
   ]
  },
  {
   "cell_type": "markdown",
   "id": "8fe0d58c",
   "metadata": {
    "papermill": {
     "duration": 0.012473,
     "end_time": "2022-10-13T06:05:14.011652",
     "exception": false,
     "start_time": "2022-10-13T06:05:13.999179",
     "status": "completed"
    },
    "tags": []
   },
   "source": [
    "#### Part B\n",
    "\n",
    "According to the plot above, is there a **slight** correlation between `'winpercent'` and `'sugarpercent'`?  What does this tell you about the candy that people tend to prefer?"
   ]
  },
  {
   "cell_type": "markdown",
   "id": "dbec0f08",
   "metadata": {
    "papermill": {
     "duration": 0.01203,
     "end_time": "2022-10-13T06:05:14.036042",
     "exception": false,
     "start_time": "2022-10-13T06:05:14.024012",
     "status": "completed"
    },
    "tags": []
   },
   "source": [
    "That people tends to prefer chocolats with more sugar, but this is not a crucial characteristic of their choice"
   ]
  },
  {
   "cell_type": "code",
   "execution_count": 14,
   "id": "e51ae37b",
   "metadata": {
    "execution": {
     "iopub.execute_input": "2022-10-13T06:05:14.062851Z",
     "iopub.status.busy": "2022-10-13T06:05:14.062379Z",
     "iopub.status.idle": "2022-10-13T06:05:14.067666Z",
     "shell.execute_reply": "2022-10-13T06:05:14.066439Z"
    },
    "papermill": {
     "duration": 0.021698,
     "end_time": "2022-10-13T06:05:14.070194",
     "exception": false,
     "start_time": "2022-10-13T06:05:14.048496",
     "status": "completed"
    },
    "tags": []
   },
   "outputs": [],
   "source": [
    "#step_4.b.hint()"
   ]
  },
  {
   "cell_type": "code",
   "execution_count": 15,
   "id": "27b59117",
   "metadata": {
    "execution": {
     "iopub.execute_input": "2022-10-13T06:05:14.097869Z",
     "iopub.status.busy": "2022-10-13T06:05:14.096664Z",
     "iopub.status.idle": "2022-10-13T06:05:14.107876Z",
     "shell.execute_reply": "2022-10-13T06:05:14.106499Z"
    },
    "papermill": {
     "duration": 0.027799,
     "end_time": "2022-10-13T06:05:14.110607",
     "exception": false,
     "start_time": "2022-10-13T06:05:14.082808",
     "status": "completed"
    },
    "tags": []
   },
   "outputs": [
    {
     "data": {
      "application/javascript": [
       "parent.postMessage({\"jupyterEvent\": \"custom.exercise_interaction\", \"data\": {\"interactionType\": 3, \"questionType\": 4, \"questionId\": \"4.2_ThinkBlueReg\", \"learnToolsVersion\": \"0.3.4\", \"valueTowardsCompletion\": 0.0, \"failureMessage\": \"\", \"exceptionClass\": \"\", \"trace\": \"\", \"outcomeType\": 4}}, \"*\")"
      ],
      "text/plain": [
       "<IPython.core.display.Javascript object>"
      ]
     },
     "metadata": {},
     "output_type": "display_data"
    },
    {
     "data": {
      "text/markdown": [
       "<span style=\"color:#33cc99\">Solution:</span> Since the regression line has a slightly positive slope, this tells us that there is a slightly positive correlation between `'winpercent'` and `'sugarpercent'`. Thus, people have a slight preference for candies containing relatively more sugar."
      ],
      "text/plain": [
       "Solution: Since the regression line has a slightly positive slope, this tells us that there is a slightly positive correlation between `'winpercent'` and `'sugarpercent'`. Thus, people have a slight preference for candies containing relatively more sugar."
      ]
     },
     "metadata": {},
     "output_type": "display_data"
    }
   ],
   "source": [
    "# Check your answer (Run this code cell to receive credit!)\n",
    "step_4.b.solution()"
   ]
  },
  {
   "cell_type": "markdown",
   "id": "8437f8f4",
   "metadata": {
    "papermill": {
     "duration": 0.012471,
     "end_time": "2022-10-13T06:05:14.135928",
     "exception": false,
     "start_time": "2022-10-13T06:05:14.123457",
     "status": "completed"
    },
    "tags": []
   },
   "source": [
    "## Step 5: Chocolate!\n",
    "\n",
    "In the code cell below, create a scatter plot to show the relationship between `'pricepercent'` (on the horizontal x-axis) and `'winpercent'` (on the vertical y-axis). Use the `'chocolate'` column to color-code the points.  _Don't add any regression lines just yet -- you'll do that in the next step!_"
   ]
  },
  {
   "cell_type": "code",
   "execution_count": 16,
   "id": "51709b58",
   "metadata": {
    "execution": {
     "iopub.execute_input": "2022-10-13T06:05:14.164846Z",
     "iopub.status.busy": "2022-10-13T06:05:14.164435Z",
     "iopub.status.idle": "2022-10-13T06:05:14.467152Z",
     "shell.execute_reply": "2022-10-13T06:05:14.465785Z"
    },
    "papermill": {
     "duration": 0.320968,
     "end_time": "2022-10-13T06:05:14.469980",
     "exception": false,
     "start_time": "2022-10-13T06:05:14.149012",
     "status": "completed"
    },
    "tags": []
   },
   "outputs": [
    {
     "data": {
      "application/javascript": [
       "parent.postMessage({\"jupyterEvent\": \"custom.exercise_interaction\", \"data\": {\"outcomeType\": 1, \"valueTowardsCompletion\": 0.3333333333333333, \"interactionType\": 1, \"questionType\": 2, \"questionId\": \"5_ColorScatter\", \"learnToolsVersion\": \"0.3.4\", \"failureMessage\": \"\", \"exceptionClass\": \"\", \"trace\": \"\"}}, \"*\")"
      ],
      "text/plain": [
       "<IPython.core.display.Javascript object>"
      ]
     },
     "metadata": {},
     "output_type": "display_data"
    },
    {
     "data": {
      "text/markdown": [
       "<span style=\"color:#33cc33\">Correct</span>"
      ],
      "text/plain": [
       "Correct"
      ]
     },
     "metadata": {},
     "output_type": "display_data"
    },
    {
     "data": {
      "image/png": "[encoded data removed]",
      "text/plain": [
       "<Figure size 1152x432 with 1 Axes>"
      ]
     },
     "metadata": {
      "needs_background": "light"
     },
     "output_type": "display_data"
    }
   ],
   "source": [
    "# Scatter plot showing the relationship between 'pricepercent', 'winpercent', and 'chocolate'\n",
    "plt.figure(figsize=(16,6)) # Your code here\n",
    "plt.title(\"Chocolate x Percentage of Price X Percentage of popularity\")\n",
    "\n",
    "ax = sns.scatterplot(x=candy_data[\"pricepercent\"], y=candy_data[\"winpercent\"], hue=candy_data[\"chocolate\"])\n",
    "\n",
    "# Check your answer\n",
    "step_5.check()\n",
    "\n",
    "plt.show()"
   ]
  },
  {
   "cell_type": "code",
   "execution_count": 17,
   "id": "3cd7acdb",
   "metadata": {
    "execution": {
     "iopub.execute_input": "2022-10-13T06:05:14.500264Z",
     "iopub.status.busy": "2022-10-13T06:05:14.499853Z",
     "iopub.status.idle": "2022-10-13T06:05:14.504928Z",
     "shell.execute_reply": "2022-10-13T06:05:14.504019Z"
    },
    "papermill": {
     "duration": 0.023116,
     "end_time": "2022-10-13T06:05:14.507163",
     "exception": false,
     "start_time": "2022-10-13T06:05:14.484047",
     "status": "completed"
    },
    "tags": []
   },
   "outputs": [],
   "source": [
    "# Lines below will give you a hint or solution code\n",
    "#step_5.hint()\n",
    "#step_5.solution_plot()"
   ]
  },
  {
   "cell_type": "markdown",
   "id": "ab69c68c",
   "metadata": {
    "papermill": {
     "duration": 0.013854,
     "end_time": "2022-10-13T06:05:14.534653",
     "exception": false,
     "start_time": "2022-10-13T06:05:14.520799",
     "status": "completed"
    },
    "tags": []
   },
   "source": [
    "Even without the regression line, we can see that candies that have chocolate into have a higher price and more popularity than the candies that not have chocolate into"
   ]
  },
  {
   "cell_type": "markdown",
   "id": "efc51293",
   "metadata": {
    "papermill": {
     "duration": 0.013134,
     "end_time": "2022-10-13T06:05:14.561317",
     "exception": false,
     "start_time": "2022-10-13T06:05:14.548183",
     "status": "completed"
    },
    "tags": []
   },
   "source": [
    "Can you see any interesting patterns in the scatter plot?  We'll investigate this plot further  by adding regression lines in the next step!\n",
    "\n",
    "## Step 6: Investigate chocolate\n",
    "\n",
    "#### Part A\n",
    "\n",
    "Create the same scatter plot you created in **Step 5**, but now with two regression lines, corresponding to (1) chocolate candies and (2) candies without chocolate."
   ]
  },
  {
   "cell_type": "code",
   "execution_count": 18,
   "id": "4fe2efad",
   "metadata": {
    "execution": {
     "iopub.execute_input": "2022-10-13T06:05:14.590685Z",
     "iopub.status.busy": "2022-10-13T06:05:14.589632Z",
     "iopub.status.idle": "2022-10-13T06:05:14.962806Z",
     "shell.execute_reply": "2022-10-13T06:05:14.961494Z"
    },
    "papermill": {
     "duration": 0.390636,
     "end_time": "2022-10-13T06:05:14.965493",
     "exception": false,
     "start_time": "2022-10-13T06:05:14.574857",
     "status": "completed"
    },
    "tags": []
   },
   "outputs": [
    {
     "data": {
      "image/png": "[encoded data removed]",
      "text/plain": [
       "<Figure size 1152x432 with 1 Axes>"
      ]
     },
     "metadata": {
      "needs_background": "light"
     },
     "output_type": "display_data"
    }
   ],
   "source": [
    "import matplotlib.ticker as tick\n",
    "import numpy as np\n",
    "# Color-coded scatter plot w/ regression lines\n",
    "plt.figure(figsize=(16,6))\n",
    "plt.title(\"Percentage of Price X Percentage of popularity\")\n",
    "\n",
    "ax_scat = sns.scatterplot(x=candy_data[\"pricepercent\"], y=candy_data[\"winpercent\"])\n",
    "ax_reg = sns.regplot(x=candy_data[\"pricepercent\"], y=candy_data[\"winpercent\"], scatter=False, color=\"red\")\n",
    "\n",
    "plt.xticks(np.arange(0, 1.1, 0.1))\n",
    "plt.yticks(np.arange(0, 100.1, 10))\n",
    "plt.xlim((0, 1))\n",
    "plt.ylim((0, 100))\n",
    "\n",
    "\n",
    "plt.xlabel(\"Percentage of Price\")\n",
    "plt.ylabel(\"Percentage of Popularity\")\n",
    "\n",
    "\n",
    "\n",
    "plt.show()"
   ]
  },
  {
   "cell_type": "code",
   "execution_count": 19,
   "id": "ac514fbd",
   "metadata": {
    "execution": {
     "iopub.execute_input": "2022-10-13T06:05:14.995814Z",
     "iopub.status.busy": "2022-10-13T06:05:14.995394Z",
     "iopub.status.idle": "2022-10-13T06:05:15.296545Z",
     "shell.execute_reply": "2022-10-13T06:05:15.295024Z"
    },
    "papermill": {
     "duration": 0.319201,
     "end_time": "2022-10-13T06:05:15.299366",
     "exception": false,
     "start_time": "2022-10-13T06:05:14.980165",
     "status": "completed"
    },
    "tags": []
   },
   "outputs": [
    {
     "data": {
      "image/png": "[encoded data removed]",
      "text/plain": [
       "<Figure size 1152x432 with 1 Axes>"
      ]
     },
     "metadata": {
      "needs_background": "light"
     },
     "output_type": "display_data"
    }
   ],
   "source": [
    "import matplotlib.ticker as tick\n",
    "import numpy as np\n",
    "# Color-coded scatter plot w/ regression lines\n",
    "plt.figure(figsize=(16,6))\n",
    "plt.title(\"Percentage of Price X Percentage of popularity\")\n",
    "\n",
    "ax = sns.swarmplot(x=candy_data[\"chocolate\"], y=candy_data[\"winpercent\"])\n",
    "\n",
    "plt.yticks(np.arange(0, 100.1, 10))\n",
    "plt.ylim((0, 100))\n",
    "\n",
    "\n",
    "plt.xlabel(\"Percentage of Price\")\n",
    "plt.ylabel(\"Percentage of Popularity\")\n",
    "\n",
    "plt.show()"
   ]
  },
  {
   "cell_type": "code",
   "execution_count": 20,
   "id": "aedd6780",
   "metadata": {
    "execution": {
     "iopub.execute_input": "2022-10-13T06:05:15.330876Z",
     "iopub.status.busy": "2022-10-13T06:05:15.330427Z",
     "iopub.status.idle": "2022-10-13T06:05:15.985142Z",
     "shell.execute_reply": "2022-10-13T06:05:15.983918Z"
    },
    "papermill": {
     "duration": 0.673197,
     "end_time": "2022-10-13T06:05:15.987756",
     "exception": false,
     "start_time": "2022-10-13T06:05:15.314559",
     "status": "completed"
    },
    "tags": []
   },
   "outputs": [
    {
     "data": {
      "application/javascript": [
       "parent.postMessage({\"jupyterEvent\": \"custom.exercise_interaction\", \"data\": {\"outcomeType\": 1, \"valueTowardsCompletion\": 0.3333333333333333, \"interactionType\": 1, \"questionType\": 2, \"questionId\": \"6.1_PlotColorReg\", \"learnToolsVersion\": \"0.3.4\", \"failureMessage\": \"\", \"exceptionClass\": \"\", \"trace\": \"\"}}, \"*\")"
      ],
      "text/plain": [
       "<IPython.core.display.Javascript object>"
      ]
     },
     "metadata": {},
     "output_type": "display_data"
    },
    {
     "data": {
      "text/markdown": [
       "<span style=\"color:#33cc33\">Correct</span>"
      ],
      "text/plain": [
       "Correct"
      ]
     },
     "metadata": {},
     "output_type": "display_data"
    },
    {
     "data": {
      "image/png": "[encoded data removed]",
      "text/plain": [
       "<Figure size 416.375x360 with 1 Axes>"
      ]
     },
     "metadata": {
      "needs_background": "light"
     },
     "output_type": "display_data"
    }
   ],
   "source": [
    "# Color-coded scatter plot w/ regression lines\n",
    "ax = sns.lmplot(x=\"pricepercent\", y=\"winpercent\", hue=\"chocolate\", data=candy_data, palette=sns.color_palette())\n",
    "plt.title(\"Chocolate x Percentage of Price X Percentage of popularity\")\n",
    "\n",
    "plt.yticks(np.arange(0,101,10))\n",
    "plt.xticks(np.arange(0,1.1,0.1))\n",
    "\n",
    "plt.xlim((0,1))\n",
    "plt.ylim((0,100))\n",
    "\n",
    "plt.xlabel(\"Percentage of Price\")\n",
    "plt.ylabel(\"Percentage of Popularity\")\n",
    "\n",
    "# Check your answer\n",
    "step_6.a.check()\n",
    "\n",
    "plt.show()"
   ]
  },
  {
   "cell_type": "code",
   "execution_count": 21,
   "id": "11fee83b",
   "metadata": {
    "execution": {
     "iopub.execute_input": "2022-10-13T06:05:16.020392Z",
     "iopub.status.busy": "2022-10-13T06:05:16.019327Z",
     "iopub.status.idle": "2022-10-13T06:05:16.025490Z",
     "shell.execute_reply": "2022-10-13T06:05:16.023908Z"
    },
    "papermill": {
     "duration": 0.025222,
     "end_time": "2022-10-13T06:05:16.028137",
     "exception": false,
     "start_time": "2022-10-13T06:05:16.002915",
     "status": "completed"
    },
    "tags": []
   },
   "outputs": [],
   "source": [
    "# Lines below will give you a hint or solution code\n",
    "#step_6.a.hint()\n",
    "#step_6.a.solution_plot()"
   ]
  },
  {
   "cell_type": "markdown",
   "id": "eab4bf13",
   "metadata": {
    "papermill": {
     "duration": 0.015318,
     "end_time": "2022-10-13T06:05:16.058711",
     "exception": false,
     "start_time": "2022-10-13T06:05:16.043393",
     "status": "completed"
    },
    "tags": []
   },
   "source": [
    "#### Part B\n",
    "\n",
    "Using the regression lines, what conclusions can you draw about the effects of chocolate and price on candy popularity?"
   ]
  },
  {
   "cell_type": "markdown",
   "id": "5fee3124",
   "metadata": {
    "papermill": {
     "duration": 0.014631,
     "end_time": "2022-10-13T06:05:16.088388",
     "exception": false,
     "start_time": "2022-10-13T06:05:16.073757",
     "status": "completed"
    },
    "tags": []
   },
   "source": [
    "we can conclude that candies with higher price slightly tend to have a higher popularity in average. And candies with chocolate tend to have a higher popularity. Adding to that, we can conclude that chocolat candies are more popular with higher prices and non chocolat candies are more popular with cheaper prices."
   ]
  },
  {
   "cell_type": "code",
   "execution_count": 22,
   "id": "5419ae95",
   "metadata": {
    "execution": {
     "iopub.execute_input": "2022-10-13T06:05:16.121247Z",
     "iopub.status.busy": "2022-10-13T06:05:16.119922Z",
     "iopub.status.idle": "2022-10-13T06:05:16.124586Z",
     "shell.execute_reply": "2022-10-13T06:05:16.123783Z"
    },
    "papermill": {
     "duration": 0.023331,
     "end_time": "2022-10-13T06:05:16.126736",
     "exception": false,
     "start_time": "2022-10-13T06:05:16.103405",
     "status": "completed"
    },
    "tags": []
   },
   "outputs": [],
   "source": [
    "#step_6.b.hint()"
   ]
  },
  {
   "cell_type": "code",
   "execution_count": 23,
   "id": "8467a727",
   "metadata": {
    "execution": {
     "iopub.execute_input": "2022-10-13T06:05:16.160774Z",
     "iopub.status.busy": "2022-10-13T06:05:16.159386Z",
     "iopub.status.idle": "2022-10-13T06:05:16.168152Z",
     "shell.execute_reply": "2022-10-13T06:05:16.167169Z"
    },
    "papermill": {
     "duration": 0.028044,
     "end_time": "2022-10-13T06:05:16.170473",
     "exception": false,
     "start_time": "2022-10-13T06:05:16.142429",
     "status": "completed"
    },
    "tags": []
   },
   "outputs": [
    {
     "data": {
      "application/javascript": [
       "parent.postMessage({\"jupyterEvent\": \"custom.exercise_interaction\", \"data\": {\"interactionType\": 3, \"questionType\": 4, \"questionId\": \"6.2_ThinkColorReg\", \"learnToolsVersion\": \"0.3.4\", \"valueTowardsCompletion\": 0.0, \"failureMessage\": \"\", \"exceptionClass\": \"\", \"trace\": \"\", \"outcomeType\": 4}}, \"*\")"
      ],
      "text/plain": [
       "<IPython.core.display.Javascript object>"
      ]
     },
     "metadata": {},
     "output_type": "display_data"
    },
    {
     "data": {
      "text/markdown": [
       "<span style=\"color:#33cc99\">Solution:</span> We'll begin with the regression line for chocolate candies. Since this line has a slightly positive slope, we can say that more expensive chocolate candies tend to be more popular (than relatively cheaper chocolate candies).  Likewise, since the regression line for candies without chocolate has a negative slope, we can say that if candies don't contain chocolate, they tend to be more popular when they are cheaper.  One important note, however, is that the dataset is quite small -- so we shouldn't invest too much trust in these patterns!  To inspire more confidence in the results, we should add more candies to the dataset."
      ],
      "text/plain": [
       "Solution: We'll begin with the regression line for chocolate candies. Since this line has a slightly positive slope, we can say that more expensive chocolate candies tend to be more popular (than relatively cheaper chocolate candies).  Likewise, since the regression line for candies without chocolate has a negative slope, we can say that if candies don't contain chocolate, they tend to be more popular when they are cheaper.  One important note, however, is that the dataset is quite small -- so we shouldn't invest too much trust in these patterns!  To inspire more confidence in the results, we should add more candies to the dataset."
      ]
     },
     "metadata": {},
     "output_type": "display_data"
    }
   ],
   "source": [
    "# Check your answer (Run this code cell to receive credit!)\n",
    "step_6.b.solution()"
   ]
  },
  {
   "cell_type": "markdown",
   "id": "9cf507f9",
   "metadata": {
    "papermill": {
     "duration": 0.014965,
     "end_time": "2022-10-13T06:05:16.200833",
     "exception": false,
     "start_time": "2022-10-13T06:05:16.185868",
     "status": "completed"
    },
    "tags": []
   },
   "source": [
    "## Step 7: Everybody loves chocolate.\n",
    "\n",
    "#### Part A\n",
    "\n",
    "Create a categorical scatter plot to highlight the relationship between `'chocolate'` and `'winpercent'`.  Put `'chocolate'` on the (horizontal) x-axis, and `'winpercent'` on the (vertical) y-axis."
   ]
  },
  {
   "cell_type": "code",
   "execution_count": 24,
   "id": "7fe1d183",
   "metadata": {
    "execution": {
     "iopub.execute_input": "2022-10-13T06:05:16.233740Z",
     "iopub.status.busy": "2022-10-13T06:05:16.232983Z",
     "iopub.status.idle": "2022-10-13T06:05:16.532867Z",
     "shell.execute_reply": "2022-10-13T06:05:16.531366Z"
    },
    "papermill": {
     "duration": 0.319354,
     "end_time": "2022-10-13T06:05:16.535388",
     "exception": false,
     "start_time": "2022-10-13T06:05:16.216034",
     "status": "completed"
    },
    "tags": []
   },
   "outputs": [
    {
     "data": {
      "application/javascript": [
       "parent.postMessage({\"jupyterEvent\": \"custom.exercise_interaction\", \"data\": {\"outcomeType\": 1, \"valueTowardsCompletion\": 0.3333333333333333, \"interactionType\": 1, \"questionType\": 2, \"questionId\": \"7.1_PlotSwarm\", \"learnToolsVersion\": \"0.3.4\", \"failureMessage\": \"\", \"exceptionClass\": \"\", \"trace\": \"\"}}, \"*\")"
      ],
      "text/plain": [
       "<IPython.core.display.Javascript object>"
      ]
     },
     "metadata": {},
     "output_type": "display_data"
    },
    {
     "data": {
      "text/markdown": [
       "<span style=\"color:#33cc33\">Correct</span>"
      ],
      "text/plain": [
       "Correct"
      ]
     },
     "metadata": {},
     "output_type": "display_data"
    },
    {
     "data": {
      "image/png": "[encoded data removed]",
      "text/plain": [
       "<Figure size 1152x432 with 1 Axes>"
      ]
     },
     "metadata": {
      "needs_background": "light"
     },
     "output_type": "display_data"
    }
   ],
   "source": [
    "# Scatter plot showing the relationship between 'chocolate' and 'winpercent'\n",
    "import matplotlib.ticker as tick\n",
    "import numpy as np\n",
    "# Color-coded scatter plot w/ regression lines\n",
    "plt.figure(figsize=(16,6))\n",
    "plt.title(\"Percentage of Price X Percentage of popularity\")\n",
    "\n",
    "ax = sns.swarmplot(x=candy_data[\"chocolate\"], y=candy_data[\"winpercent\"])\n",
    "\n",
    "plt.yticks(np.arange(0, 100.1, 10))\n",
    "plt.ylim((0, 100))\n",
    "\n",
    "plt.xlabel(\"Percentage of Price\")\n",
    "plt.ylabel(\"Percentage of Popularity\")\n",
    "\n",
    "# Check your answer\n",
    "step_7.a.check()\n",
    "\n",
    "plt.show()"
   ]
  },
  {
   "cell_type": "code",
   "execution_count": 25,
   "id": "1be79028",
   "metadata": {
    "execution": {
     "iopub.execute_input": "2022-10-13T06:05:16.570819Z",
     "iopub.status.busy": "2022-10-13T06:05:16.570222Z",
     "iopub.status.idle": "2022-10-13T06:05:16.575600Z",
     "shell.execute_reply": "2022-10-13T06:05:16.574538Z"
    },
    "papermill": {
     "duration": 0.025832,
     "end_time": "2022-10-13T06:05:16.577866",
     "exception": false,
     "start_time": "2022-10-13T06:05:16.552034",
     "status": "completed"
    },
    "tags": []
   },
   "outputs": [],
   "source": [
    "# Lines below will give you a hint or solution code\n",
    "#step_7.a.hint()\n",
    "#step_7.a.solution_plot()"
   ]
  },
  {
   "cell_type": "markdown",
   "id": "8ad020e7",
   "metadata": {
    "papermill": {
     "duration": 0.016012,
     "end_time": "2022-10-13T06:05:16.610041",
     "exception": false,
     "start_time": "2022-10-13T06:05:16.594029",
     "status": "completed"
    },
    "tags": []
   },
   "source": [
    "#### Part B\n",
    "\n",
    "You decide to dedicate a section of your report to the fact that chocolate candies tend to be more popular than candies without chocolate.  Which plot is more appropriate to tell this story: the plot from **Step 6**, or the plot from **Step 7**?"
   ]
  },
  {
   "cell_type": "markdown",
   "id": "e2e2bed0",
   "metadata": {
    "papermill": {
     "duration": 0.01595,
     "end_time": "2022-10-13T06:05:16.642090",
     "exception": false,
     "start_time": "2022-10-13T06:05:16.626140",
     "status": "completed"
    },
    "tags": []
   },
   "source": [
    "If we discuss only about the candy having or not having the chocolat, the step 7. If we want to discuss this matter more focused in real world, with other informations, the step 6"
   ]
  },
  {
   "cell_type": "code",
   "execution_count": 26,
   "id": "c8ae6bfc",
   "metadata": {
    "execution": {
     "iopub.execute_input": "2022-10-13T06:05:16.678540Z",
     "iopub.status.busy": "2022-10-13T06:05:16.677522Z",
     "iopub.status.idle": "2022-10-13T06:05:16.682680Z",
     "shell.execute_reply": "2022-10-13T06:05:16.681706Z"
    },
    "papermill": {
     "duration": 0.026817,
     "end_time": "2022-10-13T06:05:16.685140",
     "exception": false,
     "start_time": "2022-10-13T06:05:16.658323",
     "status": "completed"
    },
    "tags": []
   },
   "outputs": [],
   "source": [
    "#step_7.b.hint()"
   ]
  },
  {
   "cell_type": "code",
   "execution_count": 27,
   "id": "0e7d7f08",
   "metadata": {
    "execution": {
     "iopub.execute_input": "2022-10-13T06:05:16.720152Z",
     "iopub.status.busy": "2022-10-13T06:05:16.719376Z",
     "iopub.status.idle": "2022-10-13T06:05:16.727458Z",
     "shell.execute_reply": "2022-10-13T06:05:16.726223Z"
    },
    "papermill": {
     "duration": 0.02809,
     "end_time": "2022-10-13T06:05:16.729701",
     "exception": false,
     "start_time": "2022-10-13T06:05:16.701611",
     "status": "completed"
    },
    "tags": []
   },
   "outputs": [
    {
     "data": {
      "application/javascript": [
       "parent.postMessage({\"jupyterEvent\": \"custom.exercise_interaction\", \"data\": {\"interactionType\": 3, \"questionType\": 4, \"questionId\": \"7.2_ThinkSwarm\", \"learnToolsVersion\": \"0.3.4\", \"valueTowardsCompletion\": 0.0, \"failureMessage\": \"\", \"exceptionClass\": \"\", \"trace\": \"\", \"outcomeType\": 4}}, \"*\")"
      ],
      "text/plain": [
       "<IPython.core.display.Javascript object>"
      ]
     },
     "metadata": {},
     "output_type": "display_data"
    },
    {
     "data": {
      "text/markdown": [
       "<span style=\"color:#33cc99\">Solution:</span> In this case, the categorical scatter plot from **Step 7** is the more appropriate plot. While both plots tell the desired story, the plot from **Step 6** conveys far more information that could distract from the main point."
      ],
      "text/plain": [
       "Solution: In this case, the categorical scatter plot from **Step 7** is the more appropriate plot. While both plots tell the desired story, the plot from **Step 6** conveys far more information that could distract from the main point."
      ]
     },
     "metadata": {},
     "output_type": "display_data"
    }
   ],
   "source": [
    "# Check your answer (Run this code cell to receive credit!)\n",
    "step_7.b.solution()"
   ]
  },
  {
   "cell_type": "markdown",
   "id": "3e0d13ae",
   "metadata": {
    "papermill": {
     "duration": 0.015914,
     "end_time": "2022-10-13T06:05:16.762123",
     "exception": false,
     "start_time": "2022-10-13T06:05:16.746209",
     "status": "completed"
    },
    "tags": []
   },
   "source": [
    "## Keep going\n",
    "\n",
    "Explore **[histograms and density plots](https://www.kaggle.com/alexisbcook/distributions)**."
   ]
  },
  {
   "cell_type": "markdown",
   "id": "8cb551f9",
   "metadata": {
    "papermill": {
     "duration": 0.015828,
     "end_time": "2022-10-13T06:05:16.794027",
     "exception": false,
     "start_time": "2022-10-13T06:05:16.778199",
     "status": "completed"
    },
    "tags": []
   },
   "source": [
    "---\n",
    "\n",
    "\n",
    "\n",
    "\n",
    "*Have questions or comments? Visit the [course discussion forum](https://www.kaggle.com/learn/data-visualization/discussion) to chat with other learners.*"
   ]
  }
 ],
 "metadata": {
  "kernelspec": {
   "display_name": "Python 3",
   "language": "python",
   "name": "python3"
  },
  "language_info": {
   "codemirror_mode": {
    "name": "ipython",
    "version": 3
   },
   "file_extension": ".py",
   "mimetype": "text/x-python",
   "name": "python",
   "nbconvert_exporter": "python",
   "pygments_lexer": "ipython3",
   "version": "3.7.12"
  },
  "papermill": {
   "default_parameters": {},
   "duration": 15.686541,
   "end_time": "2022-10-13T06:05:17.634104",
   "environment_variables": {},
   "exception": null,
   "input_path": "__notebook__.ipynb",
   "output_path": "__notebook__.ipynb",
   "parameters": {},
   "start_time": "2022-10-13T06:05:01.947563",
   "version": "2.3.4"
  }
 },
 "nbformat": 4,
 "nbformat_minor": 5
}
